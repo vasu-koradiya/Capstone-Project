{
 "cells": [
  {
   "cell_type": "markdown",
   "id": "dff708b3",
   "metadata": {},
   "source": [
    "## Flight Price Prediction\n",
    "\n",
    "#### INTRODUCTION\n",
    "The objective of the study is to analyze the flight booking dataset obtained from the “Ease My Trip” website and to conduct various statistical hypothesis tests in order to get meaningful information from it. The 'Linear Regression statistical algorithm would be used to train the dataset and predict a continuous target variable. 'Easemytrip' is an internet platform for booking flight tickets, and hence a platform that potential passengers use to buy tickets. A thorough study of the data will aid in the discovery of valuable insights that will be of enormous value to passengers.\n",
    "\n",
    "#### Columns\n",
    "Airline - Name of the Airlines<br>\n",
    "Date_of_Journey - Date of Flight<br>\n",
    "Source - Departure Destination<br>\n",
    "Destination - Arrival Destination<br>\n",
    "Route - The route of the Flight<br>\n",
    "Dep_Time - Departure Time<br>\n",
    "Arrival_Time - Arrival Time<br>\n",
    "Duration - Duration of the Journey<br>\n",
    "Total_Stops - Number of Stops During the Journey<br>\n",
    "Price - Price of the Flight<br>"
   ]
  },
  {
   "cell_type": "code",
   "execution_count": 1,
   "id": "4ee0134c",
   "metadata": {
    "_cell_guid": "b1076dfc-b9ad-4769-8c92-a6c4dae69d19",
    "_uuid": "8f2839f25d086af736a60e9eeb907d3b93b6e0e5",
    "execution": {
     "iopub.execute_input": "2023-02-16T05:23:41.868396Z",
     "iopub.status.busy": "2023-02-16T05:23:41.867118Z",
     "iopub.status.idle": "2023-02-16T05:23:43.797047Z",
     "shell.execute_reply": "2023-02-16T05:23:43.795583Z"
    },
    "papermill": {
     "duration": 1.95643,
     "end_time": "2023-02-16T05:23:43.800395",
     "exception": false,
     "start_time": "2023-02-16T05:23:41.843965",
     "status": "completed"
    },
    "tags": []
   },
   "outputs": [],
   "source": [
    "# Analysis\n",
    "import pandas as pd\n",
    "import numpy as np\n",
    "import matplotlib.pyplot as plt\n",
    "import seaborn as sns\n",
    "import warnings\n",
    "warnings.filterwarnings('ignore')\n",
    "%matplotlib inline"
   ]
  },
  {
   "cell_type": "code",
   "execution_count": 2,
   "id": "81039805",
   "metadata": {},
   "outputs": [],
   "source": [
    "# Algorithmes\n",
    "from sklearn.model_selection import train_test_split\n",
    "from sklearn.linear_model import LinearRegression\n",
    "from sklearn.ensemble import RandomForestRegressor\n",
    "from sklearn.tree import DecisionTreeRegressor\n",
    "from sklearn.model_selection import RandomizedSearchCV\n",
    "from sklearn.model_selection import cross_val_score\n",
    "from sklearn.model_selection import GridSearchCV, train_test_split\n",
    "\n",
    "\n",
    "from sklearn.metrics import mean_absolute_error\n",
    "from sklearn.metrics import median_absolute_error"
   ]
  },
  {
   "cell_type": "markdown",
   "id": "9efb61de",
   "metadata": {
    "papermill": {
     "duration": 0.017006,
     "end_time": "2023-02-16T05:23:43.835034",
     "exception": false,
     "start_time": "2023-02-16T05:23:43.818028",
     "status": "completed"
    },
    "tags": []
   },
   "source": [
    "### Loading and Exploring the Data"
   ]
  },
  {
   "cell_type": "code",
   "execution_count": 3,
   "id": "e3eac6ab",
   "metadata": {
    "execution": {
     "iopub.execute_input": "2023-02-16T05:23:43.871982Z",
     "iopub.status.busy": "2023-02-16T05:23:43.871470Z",
     "iopub.status.idle": "2023-02-16T05:23:46.278020Z",
     "shell.execute_reply": "2023-02-16T05:23:46.276792Z"
    },
    "papermill": {
     "duration": 2.428121,
     "end_time": "2023-02-16T05:23:46.280766",
     "exception": false,
     "start_time": "2023-02-16T05:23:43.852645",
     "status": "completed"
    },
    "tags": []
   },
   "outputs": [
    {
     "data": {
      "text/html": [
       "<div>\n",
       "<style scoped>\n",
       "    .dataframe tbody tr th:only-of-type {\n",
       "        vertical-align: middle;\n",
       "    }\n",
       "\n",
       "    .dataframe tbody tr th {\n",
       "        vertical-align: top;\n",
       "    }\n",
       "\n",
       "    .dataframe thead th {\n",
       "        text-align: right;\n",
       "    }\n",
       "</style>\n",
       "<table border=\"1\" class=\"dataframe\">\n",
       "  <thead>\n",
       "    <tr style=\"text-align: right;\">\n",
       "      <th></th>\n",
       "      <th>Airline</th>\n",
       "      <th>Date_of_Journey</th>\n",
       "      <th>Source</th>\n",
       "      <th>Destination</th>\n",
       "      <th>Route</th>\n",
       "      <th>Dep_Time</th>\n",
       "      <th>Arrival_Time</th>\n",
       "      <th>Duration</th>\n",
       "      <th>Total_Stops</th>\n",
       "      <th>Additional_Info</th>\n",
       "      <th>Price</th>\n",
       "    </tr>\n",
       "  </thead>\n",
       "  <tbody>\n",
       "    <tr>\n",
       "      <th>0</th>\n",
       "      <td>IndiGo</td>\n",
       "      <td>24/03/2019</td>\n",
       "      <td>Banglore</td>\n",
       "      <td>New Delhi</td>\n",
       "      <td>BLR → DEL</td>\n",
       "      <td>22:20</td>\n",
       "      <td>01:10 22 Mar</td>\n",
       "      <td>2h 50m</td>\n",
       "      <td>non-stop</td>\n",
       "      <td>No info</td>\n",
       "      <td>3897</td>\n",
       "    </tr>\n",
       "    <tr>\n",
       "      <th>1</th>\n",
       "      <td>Air India</td>\n",
       "      <td>1/05/2019</td>\n",
       "      <td>Kolkata</td>\n",
       "      <td>Banglore</td>\n",
       "      <td>CCU → IXR → BBI → BLR</td>\n",
       "      <td>05:50</td>\n",
       "      <td>13:15</td>\n",
       "      <td>7h 25m</td>\n",
       "      <td>2 stops</td>\n",
       "      <td>No info</td>\n",
       "      <td>7662</td>\n",
       "    </tr>\n",
       "    <tr>\n",
       "      <th>2</th>\n",
       "      <td>Jet Airways</td>\n",
       "      <td>9/06/2019</td>\n",
       "      <td>Delhi</td>\n",
       "      <td>Cochin</td>\n",
       "      <td>DEL → LKO → BOM → COK</td>\n",
       "      <td>09:25</td>\n",
       "      <td>04:25 10 Jun</td>\n",
       "      <td>19h</td>\n",
       "      <td>2 stops</td>\n",
       "      <td>No info</td>\n",
       "      <td>13882</td>\n",
       "    </tr>\n",
       "    <tr>\n",
       "      <th>3</th>\n",
       "      <td>IndiGo</td>\n",
       "      <td>12/05/2019</td>\n",
       "      <td>Kolkata</td>\n",
       "      <td>Banglore</td>\n",
       "      <td>CCU → NAG → BLR</td>\n",
       "      <td>18:05</td>\n",
       "      <td>23:30</td>\n",
       "      <td>5h 25m</td>\n",
       "      <td>1 stop</td>\n",
       "      <td>No info</td>\n",
       "      <td>6218</td>\n",
       "    </tr>\n",
       "    <tr>\n",
       "      <th>4</th>\n",
       "      <td>IndiGo</td>\n",
       "      <td>01/03/2019</td>\n",
       "      <td>Banglore</td>\n",
       "      <td>New Delhi</td>\n",
       "      <td>BLR → NAG → DEL</td>\n",
       "      <td>16:50</td>\n",
       "      <td>21:35</td>\n",
       "      <td>4h 45m</td>\n",
       "      <td>1 stop</td>\n",
       "      <td>No info</td>\n",
       "      <td>13302</td>\n",
       "    </tr>\n",
       "  </tbody>\n",
       "</table>\n",
       "</div>"
      ],
      "text/plain": [
       "       Airline Date_of_Journey    Source Destination                  Route  \\\n",
       "0       IndiGo      24/03/2019  Banglore   New Delhi              BLR → DEL   \n",
       "1    Air India       1/05/2019   Kolkata    Banglore  CCU → IXR → BBI → BLR   \n",
       "2  Jet Airways       9/06/2019     Delhi      Cochin  DEL → LKO → BOM → COK   \n",
       "3       IndiGo      12/05/2019   Kolkata    Banglore        CCU → NAG → BLR   \n",
       "4       IndiGo      01/03/2019  Banglore   New Delhi        BLR → NAG → DEL   \n",
       "\n",
       "  Dep_Time  Arrival_Time Duration Total_Stops Additional_Info  Price  \n",
       "0    22:20  01:10 22 Mar   2h 50m    non-stop         No info   3897  \n",
       "1    05:50         13:15   7h 25m     2 stops         No info   7662  \n",
       "2    09:25  04:25 10 Jun      19h     2 stops         No info  13882  \n",
       "3    18:05         23:30   5h 25m      1 stop         No info   6218  \n",
       "4    16:50         21:35   4h 45m      1 stop         No info  13302  "
      ]
     },
     "execution_count": 3,
     "metadata": {},
     "output_type": "execute_result"
    }
   ],
   "source": [
    "train_df=pd.read_excel('Data_Train.xlsx')\n",
    "train_df.head()"
   ]
  },
  {
   "cell_type": "code",
   "execution_count": 4,
   "id": "e7634773",
   "metadata": {
    "execution": {
     "iopub.execute_input": "2023-02-16T05:23:46.318764Z",
     "iopub.status.busy": "2023-02-16T05:23:46.318053Z",
     "iopub.status.idle": "2023-02-16T05:23:46.771173Z",
     "shell.execute_reply": "2023-02-16T05:23:46.769879Z"
    },
    "papermill": {
     "duration": 0.474807,
     "end_time": "2023-02-16T05:23:46.773760",
     "exception": false,
     "start_time": "2023-02-16T05:23:46.298953",
     "status": "completed"
    },
    "tags": []
   },
   "outputs": [
    {
     "data": {
      "text/html": [
       "<div>\n",
       "<style scoped>\n",
       "    .dataframe tbody tr th:only-of-type {\n",
       "        vertical-align: middle;\n",
       "    }\n",
       "\n",
       "    .dataframe tbody tr th {\n",
       "        vertical-align: top;\n",
       "    }\n",
       "\n",
       "    .dataframe thead th {\n",
       "        text-align: right;\n",
       "    }\n",
       "</style>\n",
       "<table border=\"1\" class=\"dataframe\">\n",
       "  <thead>\n",
       "    <tr style=\"text-align: right;\">\n",
       "      <th></th>\n",
       "      <th>Airline</th>\n",
       "      <th>Date_of_Journey</th>\n",
       "      <th>Source</th>\n",
       "      <th>Destination</th>\n",
       "      <th>Route</th>\n",
       "      <th>Dep_Time</th>\n",
       "      <th>Arrival_Time</th>\n",
       "      <th>Duration</th>\n",
       "      <th>Total_Stops</th>\n",
       "      <th>Additional_Info</th>\n",
       "    </tr>\n",
       "  </thead>\n",
       "  <tbody>\n",
       "    <tr>\n",
       "      <th>0</th>\n",
       "      <td>Jet Airways</td>\n",
       "      <td>6/06/2019</td>\n",
       "      <td>Delhi</td>\n",
       "      <td>Cochin</td>\n",
       "      <td>DEL → BOM → COK</td>\n",
       "      <td>17:30</td>\n",
       "      <td>04:25 07 Jun</td>\n",
       "      <td>10h 55m</td>\n",
       "      <td>1 stop</td>\n",
       "      <td>No info</td>\n",
       "    </tr>\n",
       "    <tr>\n",
       "      <th>1</th>\n",
       "      <td>IndiGo</td>\n",
       "      <td>12/05/2019</td>\n",
       "      <td>Kolkata</td>\n",
       "      <td>Banglore</td>\n",
       "      <td>CCU → MAA → BLR</td>\n",
       "      <td>06:20</td>\n",
       "      <td>10:20</td>\n",
       "      <td>4h</td>\n",
       "      <td>1 stop</td>\n",
       "      <td>No info</td>\n",
       "    </tr>\n",
       "    <tr>\n",
       "      <th>2</th>\n",
       "      <td>Jet Airways</td>\n",
       "      <td>21/05/2019</td>\n",
       "      <td>Delhi</td>\n",
       "      <td>Cochin</td>\n",
       "      <td>DEL → BOM → COK</td>\n",
       "      <td>19:15</td>\n",
       "      <td>19:00 22 May</td>\n",
       "      <td>23h 45m</td>\n",
       "      <td>1 stop</td>\n",
       "      <td>In-flight meal not included</td>\n",
       "    </tr>\n",
       "    <tr>\n",
       "      <th>3</th>\n",
       "      <td>Multiple carriers</td>\n",
       "      <td>21/05/2019</td>\n",
       "      <td>Delhi</td>\n",
       "      <td>Cochin</td>\n",
       "      <td>DEL → BOM → COK</td>\n",
       "      <td>08:00</td>\n",
       "      <td>21:00</td>\n",
       "      <td>13h</td>\n",
       "      <td>1 stop</td>\n",
       "      <td>No info</td>\n",
       "    </tr>\n",
       "    <tr>\n",
       "      <th>4</th>\n",
       "      <td>Air Asia</td>\n",
       "      <td>24/06/2019</td>\n",
       "      <td>Banglore</td>\n",
       "      <td>Delhi</td>\n",
       "      <td>BLR → DEL</td>\n",
       "      <td>23:55</td>\n",
       "      <td>02:45 25 Jun</td>\n",
       "      <td>2h 50m</td>\n",
       "      <td>non-stop</td>\n",
       "      <td>No info</td>\n",
       "    </tr>\n",
       "  </tbody>\n",
       "</table>\n",
       "</div>"
      ],
      "text/plain": [
       "             Airline Date_of_Journey    Source Destination            Route  \\\n",
       "0        Jet Airways       6/06/2019     Delhi      Cochin  DEL → BOM → COK   \n",
       "1             IndiGo      12/05/2019   Kolkata    Banglore  CCU → MAA → BLR   \n",
       "2        Jet Airways      21/05/2019     Delhi      Cochin  DEL → BOM → COK   \n",
       "3  Multiple carriers      21/05/2019     Delhi      Cochin  DEL → BOM → COK   \n",
       "4           Air Asia      24/06/2019  Banglore       Delhi        BLR → DEL   \n",
       "\n",
       "  Dep_Time  Arrival_Time Duration Total_Stops              Additional_Info  \n",
       "0    17:30  04:25 07 Jun  10h 55m      1 stop                      No info  \n",
       "1    06:20         10:20       4h      1 stop                      No info  \n",
       "2    19:15  19:00 22 May  23h 45m      1 stop  In-flight meal not included  \n",
       "3    08:00         21:00      13h      1 stop                      No info  \n",
       "4    23:55  02:45 25 Jun   2h 50m    non-stop                      No info  "
      ]
     },
     "execution_count": 4,
     "metadata": {},
     "output_type": "execute_result"
    }
   ],
   "source": [
    "test_df=pd.read_excel('Test_set.xlsx')\n",
    "test_df.head()"
   ]
  },
  {
   "cell_type": "code",
   "execution_count": 5,
   "id": "33ea0e59",
   "metadata": {
    "execution": {
     "iopub.execute_input": "2023-02-16T05:23:46.811966Z",
     "iopub.status.busy": "2023-02-16T05:23:46.811368Z",
     "iopub.status.idle": "2023-02-16T05:23:46.819389Z",
     "shell.execute_reply": "2023-02-16T05:23:46.817999Z"
    },
    "papermill": {
     "duration": 0.029625,
     "end_time": "2023-02-16T05:23:46.821837",
     "exception": false,
     "start_time": "2023-02-16T05:23:46.792212",
     "status": "completed"
    },
    "tags": []
   },
   "outputs": [
    {
     "data": {
      "text/plain": [
       "(10683, 11)"
      ]
     },
     "execution_count": 5,
     "metadata": {},
     "output_type": "execute_result"
    }
   ],
   "source": [
    "train_df.shape"
   ]
  },
  {
   "cell_type": "code",
   "execution_count": 6,
   "id": "235cfc83",
   "metadata": {
    "execution": {
     "iopub.execute_input": "2023-02-16T05:23:46.859540Z",
     "iopub.status.busy": "2023-02-16T05:23:46.859050Z",
     "iopub.status.idle": "2023-02-16T05:23:46.867428Z",
     "shell.execute_reply": "2023-02-16T05:23:46.865923Z"
    },
    "papermill": {
     "duration": 0.030324,
     "end_time": "2023-02-16T05:23:46.869879",
     "exception": false,
     "start_time": "2023-02-16T05:23:46.839555",
     "status": "completed"
    },
    "tags": []
   },
   "outputs": [
    {
     "data": {
      "text/plain": [
       "(2671, 10)"
      ]
     },
     "execution_count": 6,
     "metadata": {},
     "output_type": "execute_result"
    }
   ],
   "source": [
    "test_df.shape"
   ]
  },
  {
   "cell_type": "code",
   "execution_count": 7,
   "id": "cd3e65ac",
   "metadata": {
    "execution": {
     "iopub.execute_input": "2023-02-16T05:23:46.908207Z",
     "iopub.status.busy": "2023-02-16T05:23:46.907747Z",
     "iopub.status.idle": "2023-02-16T05:23:46.942021Z",
     "shell.execute_reply": "2023-02-16T05:23:46.939512Z"
    },
    "papermill": {
     "duration": 0.056863,
     "end_time": "2023-02-16T05:23:46.945309",
     "exception": false,
     "start_time": "2023-02-16T05:23:46.888446",
     "status": "completed"
    },
    "tags": []
   },
   "outputs": [
    {
     "name": "stdout",
     "output_type": "stream",
     "text": [
      "<class 'pandas.core.frame.DataFrame'>\n",
      "RangeIndex: 10683 entries, 0 to 10682\n",
      "Data columns (total 11 columns):\n",
      " #   Column           Non-Null Count  Dtype \n",
      "---  ------           --------------  ----- \n",
      " 0   Airline          10683 non-null  object\n",
      " 1   Date_of_Journey  10683 non-null  object\n",
      " 2   Source           10683 non-null  object\n",
      " 3   Destination      10683 non-null  object\n",
      " 4   Route            10682 non-null  object\n",
      " 5   Dep_Time         10683 non-null  object\n",
      " 6   Arrival_Time     10683 non-null  object\n",
      " 7   Duration         10683 non-null  object\n",
      " 8   Total_Stops      10682 non-null  object\n",
      " 9   Additional_Info  10683 non-null  object\n",
      " 10  Price            10683 non-null  int64 \n",
      "dtypes: int64(1), object(10)\n",
      "memory usage: 918.2+ KB\n"
     ]
    }
   ],
   "source": [
    "train_df.info()"
   ]
  },
  {
   "cell_type": "code",
   "execution_count": 8,
   "id": "70633a52",
   "metadata": {
    "execution": {
     "iopub.execute_input": "2023-02-16T05:23:46.983818Z",
     "iopub.status.busy": "2023-02-16T05:23:46.983343Z",
     "iopub.status.idle": "2023-02-16T05:23:47.000543Z",
     "shell.execute_reply": "2023-02-16T05:23:46.998767Z"
    },
    "papermill": {
     "duration": 0.041082,
     "end_time": "2023-02-16T05:23:47.004849",
     "exception": false,
     "start_time": "2023-02-16T05:23:46.963767",
     "status": "completed"
    },
    "tags": []
   },
   "outputs": [
    {
     "name": "stdout",
     "output_type": "stream",
     "text": [
      "<class 'pandas.core.frame.DataFrame'>\n",
      "RangeIndex: 2671 entries, 0 to 2670\n",
      "Data columns (total 10 columns):\n",
      " #   Column           Non-Null Count  Dtype \n",
      "---  ------           --------------  ----- \n",
      " 0   Airline          2671 non-null   object\n",
      " 1   Date_of_Journey  2671 non-null   object\n",
      " 2   Source           2671 non-null   object\n",
      " 3   Destination      2671 non-null   object\n",
      " 4   Route            2671 non-null   object\n",
      " 5   Dep_Time         2671 non-null   object\n",
      " 6   Arrival_Time     2671 non-null   object\n",
      " 7   Duration         2671 non-null   object\n",
      " 8   Total_Stops      2671 non-null   object\n",
      " 9   Additional_Info  2671 non-null   object\n",
      "dtypes: object(10)\n",
      "memory usage: 208.8+ KB\n"
     ]
    }
   ],
   "source": [
    "test_df.info()"
   ]
  },
  {
   "cell_type": "code",
   "execution_count": 9,
   "id": "320f2fdd",
   "metadata": {
    "execution": {
     "iopub.execute_input": "2023-02-16T05:23:47.042974Z",
     "iopub.status.busy": "2023-02-16T05:23:47.042445Z",
     "iopub.status.idle": "2023-02-16T05:23:47.058281Z",
     "shell.execute_reply": "2023-02-16T05:23:47.057047Z"
    },
    "papermill": {
     "duration": 0.037702,
     "end_time": "2023-02-16T05:23:47.060837",
     "exception": false,
     "start_time": "2023-02-16T05:23:47.023135",
     "status": "completed"
    },
    "tags": []
   },
   "outputs": [
    {
     "data": {
      "text/plain": [
       "Airline            0\n",
       "Date_of_Journey    0\n",
       "Source             0\n",
       "Destination        0\n",
       "Route              1\n",
       "Dep_Time           0\n",
       "Arrival_Time       0\n",
       "Duration           0\n",
       "Total_Stops        1\n",
       "Additional_Info    0\n",
       "Price              0\n",
       "dtype: int64"
      ]
     },
     "execution_count": 9,
     "metadata": {},
     "output_type": "execute_result"
    }
   ],
   "source": [
    "#missing values\n",
    "train_df.isna().sum()"
   ]
  },
  {
   "cell_type": "code",
   "execution_count": 10,
   "id": "0ac67169",
   "metadata": {
    "execution": {
     "iopub.execute_input": "2023-02-16T05:23:47.098973Z",
     "iopub.status.busy": "2023-02-16T05:23:47.098446Z",
     "iopub.status.idle": "2023-02-16T05:23:47.114820Z",
     "shell.execute_reply": "2023-02-16T05:23:47.113753Z"
    },
    "papermill": {
     "duration": 0.038162,
     "end_time": "2023-02-16T05:23:47.117303",
     "exception": false,
     "start_time": "2023-02-16T05:23:47.079141",
     "status": "completed"
    },
    "tags": []
   },
   "outputs": [],
   "source": [
    "# drop missing values\n",
    "train_df.dropna(inplace=True)"
   ]
  },
  {
   "cell_type": "code",
   "execution_count": 11,
   "id": "ae4628de",
   "metadata": {
    "execution": {
     "iopub.execute_input": "2023-02-16T05:23:47.156312Z",
     "iopub.status.busy": "2023-02-16T05:23:47.155815Z",
     "iopub.status.idle": "2023-02-16T05:23:47.167867Z",
     "shell.execute_reply": "2023-02-16T05:23:47.166342Z"
    },
    "papermill": {
     "duration": 0.034421,
     "end_time": "2023-02-16T05:23:47.170248",
     "exception": false,
     "start_time": "2023-02-16T05:23:47.135827",
     "status": "completed"
    },
    "tags": []
   },
   "outputs": [
    {
     "data": {
      "text/plain": [
       "Airline            0\n",
       "Date_of_Journey    0\n",
       "Source             0\n",
       "Destination        0\n",
       "Route              0\n",
       "Dep_Time           0\n",
       "Arrival_Time       0\n",
       "Duration           0\n",
       "Total_Stops        0\n",
       "Additional_Info    0\n",
       "dtype: int64"
      ]
     },
     "execution_count": 11,
     "metadata": {},
     "output_type": "execute_result"
    }
   ],
   "source": [
    "#missing values\n",
    "test_df.isna().sum()"
   ]
  },
  {
   "cell_type": "code",
   "execution_count": 12,
   "id": "0de2fce9",
   "metadata": {
    "execution": {
     "iopub.execute_input": "2023-02-16T05:23:47.208558Z",
     "iopub.status.busy": "2023-02-16T05:23:47.208086Z",
     "iopub.status.idle": "2023-02-16T05:23:47.233077Z",
     "shell.execute_reply": "2023-02-16T05:23:47.231866Z"
    },
    "papermill": {
     "duration": 0.04746,
     "end_time": "2023-02-16T05:23:47.235821",
     "exception": false,
     "start_time": "2023-02-16T05:23:47.188361",
     "status": "completed"
    },
    "tags": []
   },
   "outputs": [
    {
     "data": {
      "text/plain": [
       "220"
      ]
     },
     "execution_count": 12,
     "metadata": {},
     "output_type": "execute_result"
    }
   ],
   "source": [
    "# check for duplication in train data\n",
    "train_df.duplicated().sum()"
   ]
  },
  {
   "cell_type": "code",
   "execution_count": 13,
   "id": "b8e9fe92",
   "metadata": {
    "execution": {
     "iopub.execute_input": "2023-02-16T05:23:47.274543Z",
     "iopub.status.busy": "2023-02-16T05:23:47.273619Z",
     "iopub.status.idle": "2023-02-16T05:23:47.294961Z",
     "shell.execute_reply": "2023-02-16T05:23:47.293810Z"
    },
    "papermill": {
     "duration": 0.043718,
     "end_time": "2023-02-16T05:23:47.297792",
     "exception": false,
     "start_time": "2023-02-16T05:23:47.254074",
     "status": "completed"
    },
    "tags": []
   },
   "outputs": [],
   "source": [
    "# drop duplication in train data\n",
    "train_df.drop_duplicates(inplace=True)"
   ]
  },
  {
   "cell_type": "code",
   "execution_count": 14,
   "id": "0d898486",
   "metadata": {
    "execution": {
     "iopub.execute_input": "2023-02-16T05:23:47.337252Z",
     "iopub.status.busy": "2023-02-16T05:23:47.336067Z",
     "iopub.status.idle": "2023-02-16T05:23:47.350161Z",
     "shell.execute_reply": "2023-02-16T05:23:47.348954Z"
    },
    "papermill": {
     "duration": 0.035967,
     "end_time": "2023-02-16T05:23:47.352410",
     "exception": false,
     "start_time": "2023-02-16T05:23:47.316443",
     "status": "completed"
    },
    "tags": []
   },
   "outputs": [
    {
     "data": {
      "text/plain": [
       "26"
      ]
     },
     "execution_count": 14,
     "metadata": {},
     "output_type": "execute_result"
    }
   ],
   "source": [
    "# check for duplication in test data\n",
    "test_df.duplicated().sum()"
   ]
  },
  {
   "cell_type": "code",
   "execution_count": 15,
   "id": "eaafec0a",
   "metadata": {
    "execution": {
     "iopub.execute_input": "2023-02-16T05:23:47.390890Z",
     "iopub.status.busy": "2023-02-16T05:23:47.390416Z",
     "iopub.status.idle": "2023-02-16T05:23:47.402338Z",
     "shell.execute_reply": "2023-02-16T05:23:47.401001Z"
    },
    "papermill": {
     "duration": 0.03465,
     "end_time": "2023-02-16T05:23:47.405370",
     "exception": false,
     "start_time": "2023-02-16T05:23:47.370720",
     "status": "completed"
    },
    "tags": []
   },
   "outputs": [],
   "source": [
    "# drop duplication in test data\n",
    "test_df.drop_duplicates(inplace=True)"
   ]
  },
  {
   "cell_type": "code",
   "execution_count": 16,
   "id": "6d4b9440",
   "metadata": {
    "execution": {
     "iopub.execute_input": "2023-02-16T05:23:47.443634Z",
     "iopub.status.busy": "2023-02-16T05:23:47.443193Z",
     "iopub.status.idle": "2023-02-16T05:23:47.467499Z",
     "shell.execute_reply": "2023-02-16T05:23:47.466146Z"
    },
    "papermill": {
     "duration": 0.047022,
     "end_time": "2023-02-16T05:23:47.470579",
     "exception": false,
     "start_time": "2023-02-16T05:23:47.423557",
     "status": "completed"
    },
    "tags": []
   },
   "outputs": [
    {
     "data": {
      "text/html": [
       "<div>\n",
       "<style scoped>\n",
       "    .dataframe tbody tr th:only-of-type {\n",
       "        vertical-align: middle;\n",
       "    }\n",
       "\n",
       "    .dataframe tbody tr th {\n",
       "        vertical-align: top;\n",
       "    }\n",
       "\n",
       "    .dataframe thead th {\n",
       "        text-align: right;\n",
       "    }\n",
       "</style>\n",
       "<table border=\"1\" class=\"dataframe\">\n",
       "  <thead>\n",
       "    <tr style=\"text-align: right;\">\n",
       "      <th></th>\n",
       "      <th>Airline</th>\n",
       "      <th>Date_of_Journey</th>\n",
       "      <th>Source</th>\n",
       "      <th>Destination</th>\n",
       "      <th>Route</th>\n",
       "      <th>Dep_Time</th>\n",
       "      <th>Arrival_Time</th>\n",
       "      <th>Duration</th>\n",
       "      <th>Total_Stops</th>\n",
       "      <th>Additional_Info</th>\n",
       "      <th>Price</th>\n",
       "    </tr>\n",
       "  </thead>\n",
       "  <tbody>\n",
       "    <tr>\n",
       "      <th>0</th>\n",
       "      <td>IndiGo</td>\n",
       "      <td>24/03/2019</td>\n",
       "      <td>Banglore</td>\n",
       "      <td>New Delhi</td>\n",
       "      <td>BLR → DEL</td>\n",
       "      <td>22:20</td>\n",
       "      <td>01:10 22 Mar</td>\n",
       "      <td>2h 50m</td>\n",
       "      <td>non-stop</td>\n",
       "      <td>No info</td>\n",
       "      <td>3897.0</td>\n",
       "    </tr>\n",
       "    <tr>\n",
       "      <th>1</th>\n",
       "      <td>Air India</td>\n",
       "      <td>1/05/2019</td>\n",
       "      <td>Kolkata</td>\n",
       "      <td>Banglore</td>\n",
       "      <td>CCU → IXR → BBI → BLR</td>\n",
       "      <td>05:50</td>\n",
       "      <td>13:15</td>\n",
       "      <td>7h 25m</td>\n",
       "      <td>2 stops</td>\n",
       "      <td>No info</td>\n",
       "      <td>7662.0</td>\n",
       "    </tr>\n",
       "    <tr>\n",
       "      <th>2</th>\n",
       "      <td>Jet Airways</td>\n",
       "      <td>9/06/2019</td>\n",
       "      <td>Delhi</td>\n",
       "      <td>Cochin</td>\n",
       "      <td>DEL → LKO → BOM → COK</td>\n",
       "      <td>09:25</td>\n",
       "      <td>04:25 10 Jun</td>\n",
       "      <td>19h</td>\n",
       "      <td>2 stops</td>\n",
       "      <td>No info</td>\n",
       "      <td>13882.0</td>\n",
       "    </tr>\n",
       "    <tr>\n",
       "      <th>3</th>\n",
       "      <td>IndiGo</td>\n",
       "      <td>12/05/2019</td>\n",
       "      <td>Kolkata</td>\n",
       "      <td>Banglore</td>\n",
       "      <td>CCU → NAG → BLR</td>\n",
       "      <td>18:05</td>\n",
       "      <td>23:30</td>\n",
       "      <td>5h 25m</td>\n",
       "      <td>1 stop</td>\n",
       "      <td>No info</td>\n",
       "      <td>6218.0</td>\n",
       "    </tr>\n",
       "    <tr>\n",
       "      <th>4</th>\n",
       "      <td>IndiGo</td>\n",
       "      <td>01/03/2019</td>\n",
       "      <td>Banglore</td>\n",
       "      <td>New Delhi</td>\n",
       "      <td>BLR → NAG → DEL</td>\n",
       "      <td>16:50</td>\n",
       "      <td>21:35</td>\n",
       "      <td>4h 45m</td>\n",
       "      <td>1 stop</td>\n",
       "      <td>No info</td>\n",
       "      <td>13302.0</td>\n",
       "    </tr>\n",
       "  </tbody>\n",
       "</table>\n",
       "</div>"
      ],
      "text/plain": [
       "       Airline Date_of_Journey    Source Destination                  Route  \\\n",
       "0       IndiGo      24/03/2019  Banglore   New Delhi              BLR → DEL   \n",
       "1    Air India       1/05/2019   Kolkata    Banglore  CCU → IXR → BBI → BLR   \n",
       "2  Jet Airways       9/06/2019     Delhi      Cochin  DEL → LKO → BOM → COK   \n",
       "3       IndiGo      12/05/2019   Kolkata    Banglore        CCU → NAG → BLR   \n",
       "4       IndiGo      01/03/2019  Banglore   New Delhi        BLR → NAG → DEL   \n",
       "\n",
       "  Dep_Time  Arrival_Time Duration Total_Stops Additional_Info    Price  \n",
       "0    22:20  01:10 22 Mar   2h 50m    non-stop         No info   3897.0  \n",
       "1    05:50         13:15   7h 25m     2 stops         No info   7662.0  \n",
       "2    09:25  04:25 10 Jun      19h     2 stops         No info  13882.0  \n",
       "3    18:05         23:30   5h 25m      1 stop         No info   6218.0  \n",
       "4    16:50         21:35   4h 45m      1 stop         No info  13302.0  "
      ]
     },
     "execution_count": 16,
     "metadata": {},
     "output_type": "execute_result"
    }
   ],
   "source": [
    "# concat train_df,test_df\n",
    "df=pd.concat([train_df,test_df],ignore_index=True)\n",
    "df.head()"
   ]
  },
  {
   "cell_type": "code",
   "execution_count": 17,
   "id": "20788097",
   "metadata": {
    "execution": {
     "iopub.execute_input": "2023-02-16T05:23:47.511031Z",
     "iopub.status.busy": "2023-02-16T05:23:47.510530Z",
     "iopub.status.idle": "2023-02-16T05:23:47.529035Z",
     "shell.execute_reply": "2023-02-16T05:23:47.527736Z"
    },
    "papermill": {
     "duration": 0.04247,
     "end_time": "2023-02-16T05:23:47.531584",
     "exception": false,
     "start_time": "2023-02-16T05:23:47.489114",
     "status": "completed"
    },
    "tags": []
   },
   "outputs": [
    {
     "data": {
      "text/html": [
       "<div>\n",
       "<style scoped>\n",
       "    .dataframe tbody tr th:only-of-type {\n",
       "        vertical-align: middle;\n",
       "    }\n",
       "\n",
       "    .dataframe tbody tr th {\n",
       "        vertical-align: top;\n",
       "    }\n",
       "\n",
       "    .dataframe thead th {\n",
       "        text-align: right;\n",
       "    }\n",
       "</style>\n",
       "<table border=\"1\" class=\"dataframe\">\n",
       "  <thead>\n",
       "    <tr style=\"text-align: right;\">\n",
       "      <th></th>\n",
       "      <th>Airline</th>\n",
       "      <th>Date_of_Journey</th>\n",
       "      <th>Source</th>\n",
       "      <th>Destination</th>\n",
       "      <th>Route</th>\n",
       "      <th>Dep_Time</th>\n",
       "      <th>Arrival_Time</th>\n",
       "      <th>Duration</th>\n",
       "      <th>Total_Stops</th>\n",
       "      <th>Additional_Info</th>\n",
       "      <th>Price</th>\n",
       "    </tr>\n",
       "  </thead>\n",
       "  <tbody>\n",
       "    <tr>\n",
       "      <th>13102</th>\n",
       "      <td>Air India</td>\n",
       "      <td>6/06/2019</td>\n",
       "      <td>Kolkata</td>\n",
       "      <td>Banglore</td>\n",
       "      <td>CCU → DEL → BLR</td>\n",
       "      <td>20:30</td>\n",
       "      <td>20:25 07 Jun</td>\n",
       "      <td>23h 55m</td>\n",
       "      <td>1 stop</td>\n",
       "      <td>No info</td>\n",
       "      <td>NaN</td>\n",
       "    </tr>\n",
       "    <tr>\n",
       "      <th>13103</th>\n",
       "      <td>IndiGo</td>\n",
       "      <td>27/03/2019</td>\n",
       "      <td>Kolkata</td>\n",
       "      <td>Banglore</td>\n",
       "      <td>CCU → BLR</td>\n",
       "      <td>14:20</td>\n",
       "      <td>16:55</td>\n",
       "      <td>2h 35m</td>\n",
       "      <td>non-stop</td>\n",
       "      <td>No info</td>\n",
       "      <td>NaN</td>\n",
       "    </tr>\n",
       "    <tr>\n",
       "      <th>13104</th>\n",
       "      <td>Jet Airways</td>\n",
       "      <td>6/03/2019</td>\n",
       "      <td>Delhi</td>\n",
       "      <td>Cochin</td>\n",
       "      <td>DEL → BOM → COK</td>\n",
       "      <td>21:50</td>\n",
       "      <td>04:25 07 Mar</td>\n",
       "      <td>6h 35m</td>\n",
       "      <td>1 stop</td>\n",
       "      <td>No info</td>\n",
       "      <td>NaN</td>\n",
       "    </tr>\n",
       "    <tr>\n",
       "      <th>13105</th>\n",
       "      <td>Air India</td>\n",
       "      <td>6/03/2019</td>\n",
       "      <td>Delhi</td>\n",
       "      <td>Cochin</td>\n",
       "      <td>DEL → BOM → COK</td>\n",
       "      <td>04:00</td>\n",
       "      <td>19:15</td>\n",
       "      <td>15h 15m</td>\n",
       "      <td>1 stop</td>\n",
       "      <td>No info</td>\n",
       "      <td>NaN</td>\n",
       "    </tr>\n",
       "    <tr>\n",
       "      <th>13106</th>\n",
       "      <td>Multiple carriers</td>\n",
       "      <td>15/06/2019</td>\n",
       "      <td>Delhi</td>\n",
       "      <td>Cochin</td>\n",
       "      <td>DEL → BOM → COK</td>\n",
       "      <td>04:55</td>\n",
       "      <td>19:15</td>\n",
       "      <td>14h 20m</td>\n",
       "      <td>1 stop</td>\n",
       "      <td>No info</td>\n",
       "      <td>NaN</td>\n",
       "    </tr>\n",
       "  </tbody>\n",
       "</table>\n",
       "</div>"
      ],
      "text/plain": [
       "                 Airline Date_of_Journey   Source Destination  \\\n",
       "13102          Air India       6/06/2019  Kolkata    Banglore   \n",
       "13103             IndiGo      27/03/2019  Kolkata    Banglore   \n",
       "13104        Jet Airways       6/03/2019    Delhi      Cochin   \n",
       "13105          Air India       6/03/2019    Delhi      Cochin   \n",
       "13106  Multiple carriers      15/06/2019    Delhi      Cochin   \n",
       "\n",
       "                 Route Dep_Time  Arrival_Time Duration Total_Stops  \\\n",
       "13102  CCU → DEL → BLR    20:30  20:25 07 Jun  23h 55m      1 stop   \n",
       "13103        CCU → BLR    14:20         16:55   2h 35m    non-stop   \n",
       "13104  DEL → BOM → COK    21:50  04:25 07 Mar   6h 35m      1 stop   \n",
       "13105  DEL → BOM → COK    04:00         19:15  15h 15m      1 stop   \n",
       "13106  DEL → BOM → COK    04:55         19:15  14h 20m      1 stop   \n",
       "\n",
       "      Additional_Info  Price  \n",
       "13102         No info    NaN  \n",
       "13103         No info    NaN  \n",
       "13104         No info    NaN  \n",
       "13105         No info    NaN  \n",
       "13106         No info    NaN  "
      ]
     },
     "execution_count": 17,
     "metadata": {},
     "output_type": "execute_result"
    }
   ],
   "source": [
    "df.tail()"
   ]
  },
  {
   "cell_type": "markdown",
   "id": "c04f449e",
   "metadata": {
    "papermill": {
     "duration": 0.019915,
     "end_time": "2023-02-16T05:23:47.570862",
     "exception": false,
     "start_time": "2023-02-16T05:23:47.550947",
     "status": "completed"
    },
    "tags": []
   },
   "source": [
    "#### Here We can see that the price coloumn at the end does not have any value which is because the Test Data does not have the Price column."
   ]
  },
  {
   "cell_type": "code",
   "execution_count": 18,
   "id": "b71cfc23",
   "metadata": {
    "execution": {
     "iopub.execute_input": "2023-02-16T05:23:47.611606Z",
     "iopub.status.busy": "2023-02-16T05:23:47.611167Z",
     "iopub.status.idle": "2023-02-16T05:23:47.621330Z",
     "shell.execute_reply": "2023-02-16T05:23:47.620000Z"
    },
    "papermill": {
     "duration": 0.033938,
     "end_time": "2023-02-16T05:23:47.624217",
     "exception": false,
     "start_time": "2023-02-16T05:23:47.590279",
     "status": "completed"
    },
    "tags": []
   },
   "outputs": [
    {
     "data": {
      "text/plain": [
       "No info                         10308\n",
       "In-flight meal not included      2366\n",
       "No check-in baggage included      394\n",
       "1 Long layover                     20\n",
       "Change airports                     8\n",
       "Business class                      5\n",
       "No Info                             3\n",
       "1 Short layover                     1\n",
       "Red-eye flight                      1\n",
       "2 Long layover                      1\n",
       "Name: Additional_Info, dtype: int64"
      ]
     },
     "execution_count": 18,
     "metadata": {},
     "output_type": "execute_result"
    }
   ],
   "source": [
    "df.Additional_Info.value_counts()"
   ]
  },
  {
   "cell_type": "code",
   "execution_count": 19,
   "id": "a8a61675",
   "metadata": {
    "execution": {
     "iopub.execute_input": "2023-02-16T05:23:47.664843Z",
     "iopub.status.busy": "2023-02-16T05:23:47.664389Z",
     "iopub.status.idle": "2023-02-16T05:23:47.682977Z",
     "shell.execute_reply": "2023-02-16T05:23:47.681521Z"
    },
    "papermill": {
     "duration": 0.042088,
     "end_time": "2023-02-16T05:23:47.685656",
     "exception": false,
     "start_time": "2023-02-16T05:23:47.643568",
     "status": "completed"
    },
    "tags": []
   },
   "outputs": [
    {
     "data": {
      "text/html": [
       "<div>\n",
       "<style scoped>\n",
       "    .dataframe tbody tr th:only-of-type {\n",
       "        vertical-align: middle;\n",
       "    }\n",
       "\n",
       "    .dataframe tbody tr th {\n",
       "        vertical-align: top;\n",
       "    }\n",
       "\n",
       "    .dataframe thead th {\n",
       "        text-align: right;\n",
       "    }\n",
       "</style>\n",
       "<table border=\"1\" class=\"dataframe\">\n",
       "  <thead>\n",
       "    <tr style=\"text-align: right;\">\n",
       "      <th></th>\n",
       "      <th>Airline</th>\n",
       "      <th>Date_of_Journey</th>\n",
       "      <th>Source</th>\n",
       "      <th>Destination</th>\n",
       "      <th>Route</th>\n",
       "      <th>Dep_Time</th>\n",
       "      <th>Arrival_Time</th>\n",
       "      <th>Duration</th>\n",
       "      <th>Total_Stops</th>\n",
       "      <th>Additional_Info</th>\n",
       "      <th>Price</th>\n",
       "    </tr>\n",
       "  </thead>\n",
       "  <tbody>\n",
       "    <tr>\n",
       "      <th>0</th>\n",
       "      <td>IndiGo</td>\n",
       "      <td>24/03/2019</td>\n",
       "      <td>Banglore</td>\n",
       "      <td>New Delhi</td>\n",
       "      <td>BLR → DEL</td>\n",
       "      <td>22:20</td>\n",
       "      <td>01:10 22 Mar</td>\n",
       "      <td>2h 50m</td>\n",
       "      <td>non-stop</td>\n",
       "      <td>No info</td>\n",
       "      <td>3897.0</td>\n",
       "    </tr>\n",
       "    <tr>\n",
       "      <th>1</th>\n",
       "      <td>Air India</td>\n",
       "      <td>1/05/2019</td>\n",
       "      <td>Kolkata</td>\n",
       "      <td>Banglore</td>\n",
       "      <td>CCU → IXR → BBI → BLR</td>\n",
       "      <td>05:50</td>\n",
       "      <td>13:15</td>\n",
       "      <td>7h 25m</td>\n",
       "      <td>2 stops</td>\n",
       "      <td>No info</td>\n",
       "      <td>7662.0</td>\n",
       "    </tr>\n",
       "    <tr>\n",
       "      <th>2</th>\n",
       "      <td>Jet Airways</td>\n",
       "      <td>9/06/2019</td>\n",
       "      <td>Delhi</td>\n",
       "      <td>Cochin</td>\n",
       "      <td>DEL → LKO → BOM → COK</td>\n",
       "      <td>09:25</td>\n",
       "      <td>04:25 10 Jun</td>\n",
       "      <td>19h</td>\n",
       "      <td>2 stops</td>\n",
       "      <td>No info</td>\n",
       "      <td>13882.0</td>\n",
       "    </tr>\n",
       "    <tr>\n",
       "      <th>3</th>\n",
       "      <td>IndiGo</td>\n",
       "      <td>12/05/2019</td>\n",
       "      <td>Kolkata</td>\n",
       "      <td>Banglore</td>\n",
       "      <td>CCU → NAG → BLR</td>\n",
       "      <td>18:05</td>\n",
       "      <td>23:30</td>\n",
       "      <td>5h 25m</td>\n",
       "      <td>1 stop</td>\n",
       "      <td>No info</td>\n",
       "      <td>6218.0</td>\n",
       "    </tr>\n",
       "    <tr>\n",
       "      <th>4</th>\n",
       "      <td>IndiGo</td>\n",
       "      <td>01/03/2019</td>\n",
       "      <td>Banglore</td>\n",
       "      <td>New Delhi</td>\n",
       "      <td>BLR → NAG → DEL</td>\n",
       "      <td>16:50</td>\n",
       "      <td>21:35</td>\n",
       "      <td>4h 45m</td>\n",
       "      <td>1 stop</td>\n",
       "      <td>No info</td>\n",
       "      <td>13302.0</td>\n",
       "    </tr>\n",
       "  </tbody>\n",
       "</table>\n",
       "</div>"
      ],
      "text/plain": [
       "       Airline Date_of_Journey    Source Destination                  Route  \\\n",
       "0       IndiGo      24/03/2019  Banglore   New Delhi              BLR → DEL   \n",
       "1    Air India       1/05/2019   Kolkata    Banglore  CCU → IXR → BBI → BLR   \n",
       "2  Jet Airways       9/06/2019     Delhi      Cochin  DEL → LKO → BOM → COK   \n",
       "3       IndiGo      12/05/2019   Kolkata    Banglore        CCU → NAG → BLR   \n",
       "4       IndiGo      01/03/2019  Banglore   New Delhi        BLR → NAG → DEL   \n",
       "\n",
       "  Dep_Time  Arrival_Time Duration Total_Stops Additional_Info    Price  \n",
       "0    22:20  01:10 22 Mar   2h 50m    non-stop         No info   3897.0  \n",
       "1    05:50         13:15   7h 25m     2 stops         No info   7662.0  \n",
       "2    09:25  04:25 10 Jun      19h     2 stops         No info  13882.0  \n",
       "3    18:05         23:30   5h 25m      1 stop         No info   6218.0  \n",
       "4    16:50         21:35   4h 45m      1 stop         No info  13302.0  "
      ]
     },
     "execution_count": 19,
     "metadata": {},
     "output_type": "execute_result"
    }
   ],
   "source": [
    "df.head()"
   ]
  },
  {
   "cell_type": "code",
   "execution_count": 20,
   "id": "3050881f",
   "metadata": {
    "execution": {
     "iopub.execute_input": "2023-02-16T05:23:47.726525Z",
     "iopub.status.busy": "2023-02-16T05:23:47.726073Z",
     "iopub.status.idle": "2023-02-16T05:23:47.741887Z",
     "shell.execute_reply": "2023-02-16T05:23:47.740509Z"
    },
    "papermill": {
     "duration": 0.039485,
     "end_time": "2023-02-16T05:23:47.744578",
     "exception": false,
     "start_time": "2023-02-16T05:23:47.705093",
     "status": "completed"
    },
    "tags": []
   },
   "outputs": [
    {
     "data": {
      "text/plain": [
       "1    7052\n",
       "0    4321\n",
       "2    1678\n",
       "3      54\n",
       "4       2\n",
       "Name: Total_Stops, dtype: int64"
      ]
     },
     "execution_count": 20,
     "metadata": {},
     "output_type": "execute_result"
    }
   ],
   "source": [
    "# map string values in the total stops column into integer values\n",
    "dic={'non-stop':0,\n",
    "    '1 stop':1,\n",
    "    '2 stops':2,\n",
    "    '3 stops':3,\n",
    "    '4 stops':4}\n",
    "\n",
    "df['Total_Stops']=df['Total_Stops'].map(dic)\n",
    "df['Total_Stops'].value_counts()"
   ]
  },
  {
   "cell_type": "code",
   "execution_count": 21,
   "id": "5537b6d6",
   "metadata": {
    "execution": {
     "iopub.execute_input": "2023-02-16T05:23:47.786411Z",
     "iopub.status.busy": "2023-02-16T05:23:47.785965Z",
     "iopub.status.idle": "2023-02-16T05:23:47.803023Z",
     "shell.execute_reply": "2023-02-16T05:23:47.801779Z"
    },
    "papermill": {
     "duration": 0.041308,
     "end_time": "2023-02-16T05:23:47.806188",
     "exception": false,
     "start_time": "2023-02-16T05:23:47.764880",
     "status": "completed"
    },
    "tags": []
   },
   "outputs": [],
   "source": [
    "#convert column Date_of_Journey from string type to datetime\n",
    "df['Date_of_Journey']=pd.to_datetime(df['Date_of_Journey'])"
   ]
  },
  {
   "cell_type": "code",
   "execution_count": 22,
   "id": "17472b14",
   "metadata": {
    "execution": {
     "iopub.execute_input": "2023-02-16T05:23:47.847122Z",
     "iopub.status.busy": "2023-02-16T05:23:47.846664Z",
     "iopub.status.idle": "2023-02-16T05:23:47.875859Z",
     "shell.execute_reply": "2023-02-16T05:23:47.874638Z"
    },
    "papermill": {
     "duration": 0.053227,
     "end_time": "2023-02-16T05:23:47.878840",
     "exception": false,
     "start_time": "2023-02-16T05:23:47.825613",
     "status": "completed"
    },
    "tags": []
   },
   "outputs": [],
   "source": [
    "# create a column for the month\n",
    "df['month']=df['Date_of_Journey'].dt.month.astype(str)\n",
    "# the month type is integer but the month not quantitive value so I convert it to string \n",
    "df['day']=df['Date_of_Journey'].dt.day.astype(str)\n",
    "# the month type is integer but the month not quantitive value so I convert it to string "
   ]
  },
  {
   "cell_type": "code",
   "execution_count": 23,
   "id": "17338a47",
   "metadata": {
    "execution": {
     "iopub.execute_input": "2023-02-16T05:23:47.920658Z",
     "iopub.status.busy": "2023-02-16T05:23:47.920217Z",
     "iopub.status.idle": "2023-02-16T05:23:48.146057Z",
     "shell.execute_reply": "2023-02-16T05:23:48.144388Z"
    },
    "papermill": {
     "duration": 0.250089,
     "end_time": "2023-02-16T05:23:48.149284",
     "exception": false,
     "start_time": "2023-02-16T05:23:47.899195",
     "status": "completed"
    },
    "tags": []
   },
   "outputs": [],
   "source": [
    "df['Duration_hour']=df['Duration'].str.split('h').str[0]\n",
    "df['Duration_min']=df['Duration'].str.split('h').str[1].replace(['m'],'')\n",
    "df['Duration_min']=df['Duration_min'].str[:-1]"
   ]
  },
  {
   "cell_type": "code",
   "execution_count": 24,
   "id": "ff2997fe",
   "metadata": {
    "execution": {
     "iopub.execute_input": "2023-02-16T05:23:48.198231Z",
     "iopub.status.busy": "2023-02-16T05:23:48.197328Z",
     "iopub.status.idle": "2023-02-16T05:23:48.230781Z",
     "shell.execute_reply": "2023-02-16T05:23:48.229594Z"
    },
    "papermill": {
     "duration": 0.060133,
     "end_time": "2023-02-16T05:23:48.234712",
     "exception": false,
     "start_time": "2023-02-16T05:23:48.174579",
     "status": "completed"
    },
    "scrolled": true,
    "tags": []
   },
   "outputs": [
    {
     "data": {
      "text/html": [
       "<div>\n",
       "<style scoped>\n",
       "    .dataframe tbody tr th:only-of-type {\n",
       "        vertical-align: middle;\n",
       "    }\n",
       "\n",
       "    .dataframe tbody tr th {\n",
       "        vertical-align: top;\n",
       "    }\n",
       "\n",
       "    .dataframe thead th {\n",
       "        text-align: right;\n",
       "    }\n",
       "</style>\n",
       "<table border=\"1\" class=\"dataframe\">\n",
       "  <thead>\n",
       "    <tr style=\"text-align: right;\">\n",
       "      <th></th>\n",
       "      <th>Airline</th>\n",
       "      <th>Date_of_Journey</th>\n",
       "      <th>Source</th>\n",
       "      <th>Destination</th>\n",
       "      <th>Route</th>\n",
       "      <th>Dep_Time</th>\n",
       "      <th>Arrival_Time</th>\n",
       "      <th>Duration</th>\n",
       "      <th>Total_Stops</th>\n",
       "      <th>Additional_Info</th>\n",
       "      <th>Price</th>\n",
       "      <th>month</th>\n",
       "      <th>day</th>\n",
       "      <th>Duration_hour</th>\n",
       "      <th>Duration_min</th>\n",
       "    </tr>\n",
       "  </thead>\n",
       "  <tbody>\n",
       "    <tr>\n",
       "      <th>6397</th>\n",
       "      <td>Air India</td>\n",
       "      <td>2019-06-03</td>\n",
       "      <td>Mumbai</td>\n",
       "      <td>Hyderabad</td>\n",
       "      <td>BOM → GOI → PNQ → HYD</td>\n",
       "      <td>16:50</td>\n",
       "      <td>16:55</td>\n",
       "      <td>5m</td>\n",
       "      <td>2</td>\n",
       "      <td>No info</td>\n",
       "      <td>17327.0</td>\n",
       "      <td>6</td>\n",
       "      <td>3</td>\n",
       "      <td>5m</td>\n",
       "      <td>NaN</td>\n",
       "    </tr>\n",
       "    <tr>\n",
       "      <th>13096</th>\n",
       "      <td>Air India</td>\n",
       "      <td>2019-12-03</td>\n",
       "      <td>Mumbai</td>\n",
       "      <td>Hyderabad</td>\n",
       "      <td>BOM → GOI → PNQ → HYD</td>\n",
       "      <td>16:50</td>\n",
       "      <td>16:55</td>\n",
       "      <td>5m</td>\n",
       "      <td>2</td>\n",
       "      <td>No info</td>\n",
       "      <td>NaN</td>\n",
       "      <td>12</td>\n",
       "      <td>3</td>\n",
       "      <td>5m</td>\n",
       "      <td>NaN</td>\n",
       "    </tr>\n",
       "  </tbody>\n",
       "</table>\n",
       "</div>"
      ],
      "text/plain": [
       "         Airline Date_of_Journey  Source Destination                  Route  \\\n",
       "6397   Air India      2019-06-03  Mumbai   Hyderabad  BOM → GOI → PNQ → HYD   \n",
       "13096  Air India      2019-12-03  Mumbai   Hyderabad  BOM → GOI → PNQ → HYD   \n",
       "\n",
       "      Dep_Time Arrival_Time Duration  Total_Stops Additional_Info    Price  \\\n",
       "6397     16:50        16:55       5m            2         No info  17327.0   \n",
       "13096    16:50        16:55       5m            2         No info      NaN   \n",
       "\n",
       "      month day Duration_hour Duration_min  \n",
       "6397      6   3            5m          NaN  \n",
       "13096    12   3            5m          NaN  "
      ]
     },
     "execution_count": 24,
     "metadata": {},
     "output_type": "execute_result"
    }
   ],
   "source": [
    "# those two rows make an error when I want to convert them to integer so I will drop it \n",
    "df[df['Duration_hour']=='5m']  "
   ]
  },
  {
   "cell_type": "markdown",
   "id": "79629cf5",
   "metadata": {},
   "source": [
    "#### We will drop these records as the duration can't be 5 min"
   ]
  },
  {
   "cell_type": "code",
   "execution_count": 25,
   "id": "720f5ef3",
   "metadata": {
    "execution": {
     "iopub.execute_input": "2023-02-16T05:23:48.277139Z",
     "iopub.status.busy": "2023-02-16T05:23:48.275852Z",
     "iopub.status.idle": "2023-02-16T05:23:48.295636Z",
     "shell.execute_reply": "2023-02-16T05:23:48.292832Z"
    },
    "papermill": {
     "duration": 0.044863,
     "end_time": "2023-02-16T05:23:48.299256",
     "exception": false,
     "start_time": "2023-02-16T05:23:48.254393",
     "status": "completed"
    },
    "tags": []
   },
   "outputs": [],
   "source": [
    "df.drop(df[df['Duration_hour']=='5m'].index,inplace=True)"
   ]
  },
  {
   "cell_type": "code",
   "execution_count": 26,
   "id": "d3346cdc",
   "metadata": {
    "execution": {
     "iopub.execute_input": "2023-02-16T05:23:48.343231Z",
     "iopub.status.busy": "2023-02-16T05:23:48.342058Z",
     "iopub.status.idle": "2023-02-16T05:23:48.352362Z",
     "shell.execute_reply": "2023-02-16T05:23:48.351253Z"
    },
    "papermill": {
     "duration": 0.033812,
     "end_time": "2023-02-16T05:23:48.354814",
     "exception": false,
     "start_time": "2023-02-16T05:23:48.321002",
     "status": "completed"
    },
    "tags": []
   },
   "outputs": [],
   "source": [
    "df['Duration_hour']=df['Duration_hour'].astype(int)"
   ]
  },
  {
   "cell_type": "code",
   "execution_count": 27,
   "id": "4b4153c7",
   "metadata": {
    "execution": {
     "iopub.execute_input": "2023-02-16T05:23:48.397231Z",
     "iopub.status.busy": "2023-02-16T05:23:48.396394Z",
     "iopub.status.idle": "2023-02-16T05:23:48.410671Z",
     "shell.execute_reply": "2023-02-16T05:23:48.409508Z"
    },
    "papermill": {
     "duration": 0.038464,
     "end_time": "2023-02-16T05:23:48.413403",
     "exception": false,
     "start_time": "2023-02-16T05:23:48.374939",
     "status": "completed"
    },
    "tags": []
   },
   "outputs": [],
   "source": [
    "df['Duration_min'].replace('',np.nan,inplace=True)\n",
    "df['Duration_min'].fillna(0,inplace=True)\n",
    "df['Duration_min']=df['Duration_min'].astype(int)"
   ]
  },
  {
   "cell_type": "code",
   "execution_count": 28,
   "id": "48e48495",
   "metadata": {
    "execution": {
     "iopub.execute_input": "2023-02-16T05:23:48.455574Z",
     "iopub.status.busy": "2023-02-16T05:23:48.454779Z",
     "iopub.status.idle": "2023-02-16T05:23:48.474728Z",
     "shell.execute_reply": "2023-02-16T05:23:48.473746Z"
    },
    "papermill": {
     "duration": 0.044274,
     "end_time": "2023-02-16T05:23:48.477484",
     "exception": false,
     "start_time": "2023-02-16T05:23:48.433210",
     "status": "completed"
    },
    "scrolled": false,
    "tags": []
   },
   "outputs": [
    {
     "data": {
      "text/html": [
       "<div>\n",
       "<style scoped>\n",
       "    .dataframe tbody tr th:only-of-type {\n",
       "        vertical-align: middle;\n",
       "    }\n",
       "\n",
       "    .dataframe tbody tr th {\n",
       "        vertical-align: top;\n",
       "    }\n",
       "\n",
       "    .dataframe thead th {\n",
       "        text-align: right;\n",
       "    }\n",
       "</style>\n",
       "<table border=\"1\" class=\"dataframe\">\n",
       "  <thead>\n",
       "    <tr style=\"text-align: right;\">\n",
       "      <th></th>\n",
       "      <th>Airline</th>\n",
       "      <th>Date_of_Journey</th>\n",
       "      <th>Source</th>\n",
       "      <th>Destination</th>\n",
       "      <th>Route</th>\n",
       "      <th>Dep_Time</th>\n",
       "      <th>Arrival_Time</th>\n",
       "      <th>Duration</th>\n",
       "      <th>Total_Stops</th>\n",
       "      <th>Additional_Info</th>\n",
       "      <th>Price</th>\n",
       "      <th>month</th>\n",
       "      <th>day</th>\n",
       "      <th>Duration_hour</th>\n",
       "      <th>Duration_min</th>\n",
       "    </tr>\n",
       "  </thead>\n",
       "  <tbody>\n",
       "    <tr>\n",
       "      <th>0</th>\n",
       "      <td>IndiGo</td>\n",
       "      <td>2019-03-24</td>\n",
       "      <td>Banglore</td>\n",
       "      <td>New Delhi</td>\n",
       "      <td>BLR → DEL</td>\n",
       "      <td>22:20</td>\n",
       "      <td>01:10 22 Mar</td>\n",
       "      <td>2h 50m</td>\n",
       "      <td>0</td>\n",
       "      <td>No info</td>\n",
       "      <td>3897.0</td>\n",
       "      <td>3</td>\n",
       "      <td>24</td>\n",
       "      <td>2</td>\n",
       "      <td>50</td>\n",
       "    </tr>\n",
       "    <tr>\n",
       "      <th>1</th>\n",
       "      <td>Air India</td>\n",
       "      <td>2019-01-05</td>\n",
       "      <td>Kolkata</td>\n",
       "      <td>Banglore</td>\n",
       "      <td>CCU → IXR → BBI → BLR</td>\n",
       "      <td>05:50</td>\n",
       "      <td>13:15</td>\n",
       "      <td>7h 25m</td>\n",
       "      <td>2</td>\n",
       "      <td>No info</td>\n",
       "      <td>7662.0</td>\n",
       "      <td>1</td>\n",
       "      <td>5</td>\n",
       "      <td>7</td>\n",
       "      <td>25</td>\n",
       "    </tr>\n",
       "    <tr>\n",
       "      <th>2</th>\n",
       "      <td>Jet Airways</td>\n",
       "      <td>2019-09-06</td>\n",
       "      <td>Delhi</td>\n",
       "      <td>Cochin</td>\n",
       "      <td>DEL → LKO → BOM → COK</td>\n",
       "      <td>09:25</td>\n",
       "      <td>04:25 10 Jun</td>\n",
       "      <td>19h</td>\n",
       "      <td>2</td>\n",
       "      <td>No info</td>\n",
       "      <td>13882.0</td>\n",
       "      <td>9</td>\n",
       "      <td>6</td>\n",
       "      <td>19</td>\n",
       "      <td>0</td>\n",
       "    </tr>\n",
       "    <tr>\n",
       "      <th>3</th>\n",
       "      <td>IndiGo</td>\n",
       "      <td>2019-12-05</td>\n",
       "      <td>Kolkata</td>\n",
       "      <td>Banglore</td>\n",
       "      <td>CCU → NAG → BLR</td>\n",
       "      <td>18:05</td>\n",
       "      <td>23:30</td>\n",
       "      <td>5h 25m</td>\n",
       "      <td>1</td>\n",
       "      <td>No info</td>\n",
       "      <td>6218.0</td>\n",
       "      <td>12</td>\n",
       "      <td>5</td>\n",
       "      <td>5</td>\n",
       "      <td>25</td>\n",
       "    </tr>\n",
       "    <tr>\n",
       "      <th>4</th>\n",
       "      <td>IndiGo</td>\n",
       "      <td>2019-01-03</td>\n",
       "      <td>Banglore</td>\n",
       "      <td>New Delhi</td>\n",
       "      <td>BLR → NAG → DEL</td>\n",
       "      <td>16:50</td>\n",
       "      <td>21:35</td>\n",
       "      <td>4h 45m</td>\n",
       "      <td>1</td>\n",
       "      <td>No info</td>\n",
       "      <td>13302.0</td>\n",
       "      <td>1</td>\n",
       "      <td>3</td>\n",
       "      <td>4</td>\n",
       "      <td>45</td>\n",
       "    </tr>\n",
       "  </tbody>\n",
       "</table>\n",
       "</div>"
      ],
      "text/plain": [
       "       Airline Date_of_Journey    Source Destination                  Route  \\\n",
       "0       IndiGo      2019-03-24  Banglore   New Delhi              BLR → DEL   \n",
       "1    Air India      2019-01-05   Kolkata    Banglore  CCU → IXR → BBI → BLR   \n",
       "2  Jet Airways      2019-09-06     Delhi      Cochin  DEL → LKO → BOM → COK   \n",
       "3       IndiGo      2019-12-05   Kolkata    Banglore        CCU → NAG → BLR   \n",
       "4       IndiGo      2019-01-03  Banglore   New Delhi        BLR → NAG → DEL   \n",
       "\n",
       "  Dep_Time  Arrival_Time Duration  Total_Stops Additional_Info    Price month  \\\n",
       "0    22:20  01:10 22 Mar   2h 50m            0         No info   3897.0     3   \n",
       "1    05:50         13:15   7h 25m            2         No info   7662.0     1   \n",
       "2    09:25  04:25 10 Jun      19h            2         No info  13882.0     9   \n",
       "3    18:05         23:30   5h 25m            1         No info   6218.0    12   \n",
       "4    16:50         21:35   4h 45m            1         No info  13302.0     1   \n",
       "\n",
       "  day  Duration_hour  Duration_min  \n",
       "0  24              2            50  \n",
       "1   5              7            25  \n",
       "2   6             19             0  \n",
       "3   5              5            25  \n",
       "4   3              4            45  "
      ]
     },
     "execution_count": 28,
     "metadata": {},
     "output_type": "execute_result"
    }
   ],
   "source": [
    "df.head()"
   ]
  },
  {
   "cell_type": "markdown",
   "id": "06061b2f",
   "metadata": {},
   "source": [
    "#### Converting the Duration hours mins to minutes."
   ]
  },
  {
   "cell_type": "code",
   "execution_count": 29,
   "id": "7c8931a5",
   "metadata": {
    "execution": {
     "iopub.execute_input": "2023-02-16T05:23:48.520050Z",
     "iopub.status.busy": "2023-02-16T05:23:48.519548Z",
     "iopub.status.idle": "2023-02-16T05:23:48.553232Z",
     "shell.execute_reply": "2023-02-16T05:23:48.551912Z"
    },
    "papermill": {
     "duration": 0.057891,
     "end_time": "2023-02-16T05:23:48.555993",
     "exception": false,
     "start_time": "2023-02-16T05:23:48.498102",
     "status": "completed"
    },
    "scrolled": true,
    "tags": []
   },
   "outputs": [
    {
     "data": {
      "text/html": [
       "<div>\n",
       "<style scoped>\n",
       "    .dataframe tbody tr th:only-of-type {\n",
       "        vertical-align: middle;\n",
       "    }\n",
       "\n",
       "    .dataframe tbody tr th {\n",
       "        vertical-align: top;\n",
       "    }\n",
       "\n",
       "    .dataframe thead th {\n",
       "        text-align: right;\n",
       "    }\n",
       "</style>\n",
       "<table border=\"1\" class=\"dataframe\">\n",
       "  <thead>\n",
       "    <tr style=\"text-align: right;\">\n",
       "      <th></th>\n",
       "      <th>Airline</th>\n",
       "      <th>Date_of_Journey</th>\n",
       "      <th>Source</th>\n",
       "      <th>Destination</th>\n",
       "      <th>Route</th>\n",
       "      <th>Dep_Time</th>\n",
       "      <th>Arrival_Time</th>\n",
       "      <th>Total_Stops</th>\n",
       "      <th>Additional_Info</th>\n",
       "      <th>Price</th>\n",
       "      <th>month</th>\n",
       "      <th>day</th>\n",
       "      <th>Duration_min</th>\n",
       "    </tr>\n",
       "  </thead>\n",
       "  <tbody>\n",
       "    <tr>\n",
       "      <th>0</th>\n",
       "      <td>IndiGo</td>\n",
       "      <td>2019-03-24</td>\n",
       "      <td>Banglore</td>\n",
       "      <td>New Delhi</td>\n",
       "      <td>BLR → DEL</td>\n",
       "      <td>22:20</td>\n",
       "      <td>01:10 22 Mar</td>\n",
       "      <td>0</td>\n",
       "      <td>No info</td>\n",
       "      <td>3897.0</td>\n",
       "      <td>3</td>\n",
       "      <td>24</td>\n",
       "      <td>170</td>\n",
       "    </tr>\n",
       "    <tr>\n",
       "      <th>1</th>\n",
       "      <td>Air India</td>\n",
       "      <td>2019-01-05</td>\n",
       "      <td>Kolkata</td>\n",
       "      <td>Banglore</td>\n",
       "      <td>CCU → IXR → BBI → BLR</td>\n",
       "      <td>05:50</td>\n",
       "      <td>13:15</td>\n",
       "      <td>2</td>\n",
       "      <td>No info</td>\n",
       "      <td>7662.0</td>\n",
       "      <td>1</td>\n",
       "      <td>5</td>\n",
       "      <td>445</td>\n",
       "    </tr>\n",
       "    <tr>\n",
       "      <th>2</th>\n",
       "      <td>Jet Airways</td>\n",
       "      <td>2019-09-06</td>\n",
       "      <td>Delhi</td>\n",
       "      <td>Cochin</td>\n",
       "      <td>DEL → LKO → BOM → COK</td>\n",
       "      <td>09:25</td>\n",
       "      <td>04:25 10 Jun</td>\n",
       "      <td>2</td>\n",
       "      <td>No info</td>\n",
       "      <td>13882.0</td>\n",
       "      <td>9</td>\n",
       "      <td>6</td>\n",
       "      <td>420</td>\n",
       "    </tr>\n",
       "    <tr>\n",
       "      <th>3</th>\n",
       "      <td>IndiGo</td>\n",
       "      <td>2019-12-05</td>\n",
       "      <td>Kolkata</td>\n",
       "      <td>Banglore</td>\n",
       "      <td>CCU → NAG → BLR</td>\n",
       "      <td>18:05</td>\n",
       "      <td>23:30</td>\n",
       "      <td>1</td>\n",
       "      <td>No info</td>\n",
       "      <td>6218.0</td>\n",
       "      <td>12</td>\n",
       "      <td>5</td>\n",
       "      <td>325</td>\n",
       "    </tr>\n",
       "    <tr>\n",
       "      <th>4</th>\n",
       "      <td>IndiGo</td>\n",
       "      <td>2019-01-03</td>\n",
       "      <td>Banglore</td>\n",
       "      <td>New Delhi</td>\n",
       "      <td>BLR → NAG → DEL</td>\n",
       "      <td>16:50</td>\n",
       "      <td>21:35</td>\n",
       "      <td>1</td>\n",
       "      <td>No info</td>\n",
       "      <td>13302.0</td>\n",
       "      <td>1</td>\n",
       "      <td>3</td>\n",
       "      <td>285</td>\n",
       "    </tr>\n",
       "  </tbody>\n",
       "</table>\n",
       "</div>"
      ],
      "text/plain": [
       "       Airline Date_of_Journey    Source Destination                  Route  \\\n",
       "0       IndiGo      2019-03-24  Banglore   New Delhi              BLR → DEL   \n",
       "1    Air India      2019-01-05   Kolkata    Banglore  CCU → IXR → BBI → BLR   \n",
       "2  Jet Airways      2019-09-06     Delhi      Cochin  DEL → LKO → BOM → COK   \n",
       "3       IndiGo      2019-12-05   Kolkata    Banglore        CCU → NAG → BLR   \n",
       "4       IndiGo      2019-01-03  Banglore   New Delhi        BLR → NAG → DEL   \n",
       "\n",
       "  Dep_Time  Arrival_Time  Total_Stops Additional_Info    Price month day  \\\n",
       "0    22:20  01:10 22 Mar            0         No info   3897.0     3  24   \n",
       "1    05:50         13:15            2         No info   7662.0     1   5   \n",
       "2    09:25  04:25 10 Jun            2         No info  13882.0     9   6   \n",
       "3    18:05         23:30            1         No info   6218.0    12   5   \n",
       "4    16:50         21:35            1         No info  13302.0     1   3   \n",
       "\n",
       "   Duration_min  \n",
       "0           170  \n",
       "1           445  \n",
       "2           420  \n",
       "3           325  \n",
       "4           285  "
      ]
     },
     "execution_count": 29,
     "metadata": {},
     "output_type": "execute_result"
    }
   ],
   "source": [
    "def convert_to_minutes(h):\n",
    "    if h>12:\n",
    "        return (h-12)*60\n",
    "    else:\n",
    "        return h*60\n",
    "    \n",
    "df['Duration_hour']=df['Duration_hour'].apply(convert_to_minutes)\n",
    "df['Duration_min']=df['Duration_hour']+df['Duration_min']\n",
    "df.drop(columns=['Duration_hour','Duration'],inplace=True)\n",
    "df.head()"
   ]
  },
  {
   "cell_type": "markdown",
   "id": "9c049ced",
   "metadata": {
    "papermill": {
     "duration": 0.019494,
     "end_time": "2023-02-16T05:23:48.685791",
     "exception": false,
     "start_time": "2023-02-16T05:23:48.666297",
     "status": "completed"
    },
    "tags": []
   },
   "source": [
    "# EDA (Exploratory Data Analysis)"
   ]
  },
  {
   "cell_type": "markdown",
   "id": "b9c7604e",
   "metadata": {
    "papermill": {
     "duration": 0.019721,
     "end_time": "2023-02-16T05:23:48.725266",
     "exception": false,
     "start_time": "2023-02-16T05:23:48.705545",
     "status": "completed"
    },
    "tags": []
   },
   "source": [
    "#### First Date for the Data"
   ]
  },
  {
   "cell_type": "code",
   "execution_count": 30,
   "id": "92819347",
   "metadata": {
    "execution": {
     "iopub.execute_input": "2023-02-16T05:23:48.768671Z",
     "iopub.status.busy": "2023-02-16T05:23:48.767765Z",
     "iopub.status.idle": "2023-02-16T05:23:48.777200Z",
     "shell.execute_reply": "2023-02-16T05:23:48.775945Z"
    },
    "papermill": {
     "duration": 0.034833,
     "end_time": "2023-02-16T05:23:48.779947",
     "exception": false,
     "start_time": "2023-02-16T05:23:48.745114",
     "status": "completed"
    },
    "tags": []
   },
   "outputs": [
    {
     "data": {
      "text/plain": [
       "Timestamp('2019-12-06 00:00:00')"
      ]
     },
     "execution_count": 30,
     "metadata": {},
     "output_type": "execute_result"
    }
   ],
   "source": [
    "df['Date_of_Journey'].max()"
   ]
  },
  {
   "cell_type": "markdown",
   "id": "887a1fe0",
   "metadata": {
    "papermill": {
     "duration": 0.019893,
     "end_time": "2023-02-16T05:23:48.820748",
     "exception": false,
     "start_time": "2023-02-16T05:23:48.800855",
     "status": "completed"
    },
    "tags": []
   },
   "source": [
    "#### Last Date for the Data"
   ]
  },
  {
   "cell_type": "code",
   "execution_count": 31,
   "id": "75e69f75",
   "metadata": {
    "execution": {
     "iopub.execute_input": "2023-02-16T05:23:48.865036Z",
     "iopub.status.busy": "2023-02-16T05:23:48.863702Z",
     "iopub.status.idle": "2023-02-16T05:23:48.871454Z",
     "shell.execute_reply": "2023-02-16T05:23:48.870565Z"
    },
    "papermill": {
     "duration": 0.032673,
     "end_time": "2023-02-16T05:23:48.873861",
     "exception": false,
     "start_time": "2023-02-16T05:23:48.841188",
     "status": "completed"
    },
    "tags": []
   },
   "outputs": [
    {
     "data": {
      "text/plain": [
       "Timestamp('2019-01-03 00:00:00')"
      ]
     },
     "execution_count": 31,
     "metadata": {},
     "output_type": "execute_result"
    }
   ],
   "source": [
    "df['Date_of_Journey'].min()"
   ]
  },
  {
   "cell_type": "code",
   "execution_count": 32,
   "id": "c023ad57",
   "metadata": {
    "execution": {
     "iopub.execute_input": "2023-02-16T05:23:48.917928Z",
     "iopub.status.busy": "2023-02-16T05:23:48.917420Z",
     "iopub.status.idle": "2023-02-16T05:23:49.147231Z",
     "shell.execute_reply": "2023-02-16T05:23:49.145953Z"
    },
    "papermill": {
     "duration": 0.255349,
     "end_time": "2023-02-16T05:23:49.149711",
     "exception": false,
     "start_time": "2023-02-16T05:23:48.894362",
     "status": "completed"
    },
    "tags": []
   },
   "outputs": [
    {
     "data": {
      "image/png": "[encoded data removed]",
      "text/plain": [
       "<Figure size 640x480 with 1 Axes>"
      ]
     },
     "metadata": {},
     "output_type": "display_data"
    }
   ],
   "source": [
    "df['Arrival_Time'].str[:2].value_counts().plot(kind='line')\n",
    "plt.xlabel('hours')\n",
    "plt.ylabel('frequency')\n",
    "plt.title(\"Most Hours of Arrival Time\",\n",
    "          backgroundcolor='white',);"
   ]
  },
  {
   "cell_type": "code",
   "execution_count": 33,
   "id": "f9d2ff55",
   "metadata": {
    "execution": {
     "iopub.execute_input": "2023-02-16T05:23:49.195650Z",
     "iopub.status.busy": "2023-02-16T05:23:49.194835Z",
     "iopub.status.idle": "2023-02-16T05:23:49.346364Z",
     "shell.execute_reply": "2023-02-16T05:23:49.344773Z"
    },
    "papermill": {
     "duration": 0.178603,
     "end_time": "2023-02-16T05:23:49.350478",
     "exception": false,
     "start_time": "2023-02-16T05:23:49.171875",
     "status": "completed"
    },
    "tags": []
   },
   "outputs": [
    {
     "data": {
      "image/png": "[encoded data removed]",
      "text/plain": [
       "<Figure size 640x480 with 1 Axes>"
      ]
     },
     "metadata": {},
     "output_type": "display_data"
    }
   ],
   "source": [
    "df['Dep_Time'].str[:2].value_counts().plot(kind='line')\n",
    "plt.xlabel('Hours')\n",
    "plt.ylabel('Frequency')\n",
    "plt.title(\"Most Hours of Departure Time\",\n",
    "          backgroundcolor='white');"
   ]
  },
  {
   "cell_type": "code",
   "execution_count": 34,
   "id": "cf676346",
   "metadata": {
    "execution": {
     "iopub.execute_input": "2023-02-16T05:23:49.396325Z",
     "iopub.status.busy": "2023-02-16T05:23:49.395850Z",
     "iopub.status.idle": "2023-02-16T05:23:51.011506Z",
     "shell.execute_reply": "2023-02-16T05:23:51.010199Z"
    },
    "papermill": {
     "duration": 1.641465,
     "end_time": "2023-02-16T05:23:51.013982",
     "exception": false,
     "start_time": "2023-02-16T05:23:49.372517",
     "status": "completed"
    },
    "tags": []
   },
   "outputs": [
    {
     "data": {
      "image/png": "[encoded data removed]",
      "text/plain": [
       "<Figure size 640x480 with 1 Axes>"
      ]
     },
     "metadata": {},
     "output_type": "display_data"
    }
   ],
   "source": [
    "sns.lineplot(x='Date_of_Journey',y='Price',data=df[df['Price']!=np.nan],palette='crest')\n",
    "plt.title(\"Price of Months \",\n",
    "          backgroundcolor='white');"
   ]
  },
  {
   "cell_type": "code",
   "execution_count": 35,
   "id": "e73aef5b",
   "metadata": {
    "execution": {
     "iopub.execute_input": "2023-02-16T05:23:51.105033Z",
     "iopub.status.busy": "2023-02-16T05:23:51.104549Z",
     "iopub.status.idle": "2023-02-16T05:23:51.481801Z",
     "shell.execute_reply": "2023-02-16T05:23:51.480376Z"
    },
    "papermill": {
     "duration": 0.403627,
     "end_time": "2023-02-16T05:23:51.484624",
     "exception": false,
     "start_time": "2023-02-16T05:23:51.080997",
     "status": "completed"
    },
    "tags": []
   },
   "outputs": [
    {
     "data": {
      "image/png": "[encoded data removed]",
      "text/plain": [
       "<Figure size 640x480 with 1 Axes>"
      ]
     },
     "metadata": {},
     "output_type": "display_data"
    }
   ],
   "source": [
    "chart=sns.countplot(x='month',data=df,palette='coolwarm', order = df['month'].value_counts().index)\n",
    "plt.xlabel('Months')\n",
    "plt.ylabel('Frequency')\n",
    "plt.title(\"Months Frequency \",backgroundcolor='white')\n",
    "chart.set_xticklabels(chart.get_xticklabels(),rotation=360);"
   ]
  },
  {
   "cell_type": "code",
   "execution_count": 36,
   "id": "67ed05ae",
   "metadata": {
    "execution": {
     "iopub.execute_input": "2023-02-16T05:23:51.531906Z",
     "iopub.status.busy": "2023-02-16T05:23:51.531415Z",
     "iopub.status.idle": "2023-02-16T05:23:51.866386Z",
     "shell.execute_reply": "2023-02-16T05:23:51.864773Z"
    },
    "papermill": {
     "duration": 0.36193,
     "end_time": "2023-02-16T05:23:51.869130",
     "exception": false,
     "start_time": "2023-02-16T05:23:51.507200",
     "status": "completed"
    },
    "tags": []
   },
   "outputs": [
    {
     "data": {
      "image/png": "[encoded data removed]",
      "text/plain": [
       "<Figure size 640x480 with 1 Axes>"
      ]
     },
     "metadata": {},
     "output_type": "display_data"
    }
   ],
   "source": [
    "sns.histplot(x='Duration_min',data=df,palette='crest')\n",
    "plt.title(\"Distribution of Journey Minutes\",\n",
    "          backgroundcolor='white');"
   ]
  },
  {
   "cell_type": "code",
   "execution_count": 37,
   "id": "555e4e1a",
   "metadata": {
    "execution": {
     "iopub.execute_input": "2023-02-16T05:23:52.011083Z",
     "iopub.status.busy": "2023-02-16T05:23:52.010573Z",
     "iopub.status.idle": "2023-02-16T05:23:52.447392Z",
     "shell.execute_reply": "2023-02-16T05:23:52.445780Z"
    },
    "papermill": {
     "duration": 0.46412,
     "end_time": "2023-02-16T05:23:52.450260",
     "exception": false,
     "start_time": "2023-02-16T05:23:51.986140",
     "status": "completed"
    },
    "tags": []
   },
   "outputs": [
    {
     "data": {
      "image/png": "[encoded data removed]",
      "text/plain": [
       "<Figure size 1500x700 with 1 Axes>"
      ]
     },
     "metadata": {},
     "output_type": "display_data"
    }
   ],
   "source": [
    "plt.figure(figsize=(15,7))\n",
    "chart=sns.countplot(x='Airline',data=df,palette='coolwarm', order = df['Airline'].value_counts().index)\n",
    "plt.title(\"airline frequency \",backgroundcolor='white')\n",
    "chart.set_xticklabels(chart.get_xticklabels(),rotation=45);"
   ]
  },
  {
   "cell_type": "code",
   "execution_count": 38,
   "id": "bdda4fca",
   "metadata": {
    "execution": {
     "iopub.execute_input": "2023-02-16T05:23:52.501044Z",
     "iopub.status.busy": "2023-02-16T05:23:52.500521Z",
     "iopub.status.idle": "2023-02-16T05:23:53.173181Z",
     "shell.execute_reply": "2023-02-16T05:23:53.171855Z"
    },
    "papermill": {
     "duration": 0.701398,
     "end_time": "2023-02-16T05:23:53.175884",
     "exception": false,
     "start_time": "2023-02-16T05:23:52.474486",
     "status": "completed"
    },
    "tags": []
   },
   "outputs": [
    {
     "data": {
      "image/png": "[encoded data removed]",
      "text/plain": [
       "<Figure size 1500x500 with 2 Axes>"
      ]
     },
     "metadata": {},
     "output_type": "display_data"
    }
   ],
   "source": [
    "fig,ax=plt.subplots(ncols=2,nrows=1,figsize=(15,5))\n",
    "sns.countplot(x='Destination',data=df,palette='coolwarm', order = df['Destination'].value_counts().index,ax=ax[0])\n",
    "sns.countplot(x='Source',data=df,palette='coolwarm', order = df['Source'].value_counts().index,ax=ax[1])\n",
    "\n",
    "plt.tight_layout();"
   ]
  },
  {
   "cell_type": "markdown",
   "id": "14e64c0a",
   "metadata": {
    "papermill": {
     "duration": 0.024344,
     "end_time": "2023-02-16T05:23:53.225271",
     "exception": false,
     "start_time": "2023-02-16T05:23:53.200927",
     "status": "completed"
    },
    "tags": []
   },
   "source": [
    "##### Cochin is the most destination from others"
   ]
  },
  {
   "cell_type": "code",
   "execution_count": 39,
   "id": "a02dc063",
   "metadata": {
    "execution": {
     "iopub.execute_input": "2023-02-16T05:23:53.275976Z",
     "iopub.status.busy": "2023-02-16T05:23:53.275492Z",
     "iopub.status.idle": "2023-02-16T05:23:53.772120Z",
     "shell.execute_reply": "2023-02-16T05:23:53.770739Z"
    },
    "papermill": {
     "duration": 0.525933,
     "end_time": "2023-02-16T05:23:53.775234",
     "exception": false,
     "start_time": "2023-02-16T05:23:53.249301",
     "status": "completed"
    },
    "tags": []
   },
   "outputs": [
    {
     "data": {
      "image/png": "[encoded data removed]",
      "text/plain": [
       "<Figure size 1500x700 with 1 Axes>"
      ]
     },
     "metadata": {},
     "output_type": "display_data"
    }
   ],
   "source": [
    "plt.figure(figsize=(15,7))\n",
    "chart=sns.countplot(y='Route',data=df,palette='coolwarm', order = df['Route'].value_counts()[:20].index)\n",
    "plt.title(\"Top 16 Routes of Journeys\", backgroundcolor='white');"
   ]
  },
  {
   "cell_type": "code",
   "execution_count": 40,
   "id": "f20d19ea",
   "metadata": {
    "execution": {
     "iopub.execute_input": "2023-02-16T05:23:54.374606Z",
     "iopub.status.busy": "2023-02-16T05:23:54.373931Z",
     "iopub.status.idle": "2023-02-16T05:23:54.654212Z",
     "shell.execute_reply": "2023-02-16T05:23:54.652829Z"
    },
    "papermill": {
     "duration": 0.311538,
     "end_time": "2023-02-16T05:23:54.657167",
     "exception": false,
     "start_time": "2023-02-16T05:23:54.345629",
     "status": "completed"
    },
    "tags": []
   },
   "outputs": [
    {
     "data": {
      "image/png": "[encoded data removed]",
      "text/plain": [
       "<Figure size 640x480 with 1 Axes>"
      ]
     },
     "metadata": {},
     "output_type": "display_data"
    }
   ],
   "source": [
    "sns.countplot(x='Total_Stops',data=df,palette='coolwarm', order = df['Total_Stops'].value_counts().index)\n",
    "plt.title(\"Total Stops Frequency \",backgroundcolor='white');"
   ]
  },
  {
   "cell_type": "markdown",
   "id": "5a2a03b9",
   "metadata": {
    "papermill": {
     "duration": 0.026098,
     "end_time": "2023-02-16T05:23:54.710348",
     "exception": false,
     "start_time": "2023-02-16T05:23:54.684250",
     "status": "completed"
    },
    "tags": []
   },
   "source": [
    "##### most journeys take one stop during the journey"
   ]
  },
  {
   "cell_type": "markdown",
   "id": "e079b5a2",
   "metadata": {
    "papermill": {
     "duration": 0.026436,
     "end_time": "2023-02-16T05:23:54.764664",
     "exception": false,
     "start_time": "2023-02-16T05:23:54.738228",
     "status": "completed"
    },
    "tags": []
   },
   "source": [
    "# Modeling"
   ]
  },
  {
   "cell_type": "code",
   "execution_count": 41,
   "id": "6074b0ed",
   "metadata": {
    "execution": {
     "iopub.execute_input": "2023-02-16T05:23:54.820816Z",
     "iopub.status.busy": "2023-02-16T05:23:54.820120Z",
     "iopub.status.idle": "2023-02-16T05:23:54.835924Z",
     "shell.execute_reply": "2023-02-16T05:23:54.834819Z"
    },
    "papermill": {
     "duration": 0.047102,
     "end_time": "2023-02-16T05:23:54.838804",
     "exception": false,
     "start_time": "2023-02-16T05:23:54.791702",
     "status": "completed"
    },
    "tags": []
   },
   "outputs": [],
   "source": [
    "#add column Len_Route insted of Route \n",
    "df['Len_Route']=df['Route'].apply(lambda i :len(i))\n",
    "df.drop(columns=['Route'],inplace=True)"
   ]
  },
  {
   "cell_type": "code",
   "execution_count": 42,
   "id": "88d0dc40",
   "metadata": {
    "execution": {
     "iopub.execute_input": "2023-02-16T05:23:54.893858Z",
     "iopub.status.busy": "2023-02-16T05:23:54.893402Z",
     "iopub.status.idle": "2023-02-16T05:23:54.901668Z",
     "shell.execute_reply": "2023-02-16T05:23:54.900388Z"
    },
    "papermill": {
     "duration": 0.038794,
     "end_time": "2023-02-16T05:23:54.903981",
     "exception": false,
     "start_time": "2023-02-16T05:23:54.865187",
     "status": "completed"
    },
    "tags": []
   },
   "outputs": [],
   "source": [
    "# drop columns Date_of_Journey,Dep_Time and Arrival_Time\n",
    "df.drop(columns=['Date_of_Journey','Dep_Time','Arrival_Time'],axis=1,inplace=True)"
   ]
  },
  {
   "cell_type": "code",
   "execution_count": 43,
   "id": "d2ee271f",
   "metadata": {
    "execution": {
     "iopub.execute_input": "2023-02-16T05:23:54.959309Z",
     "iopub.status.busy": "2023-02-16T05:23:54.957869Z",
     "iopub.status.idle": "2023-02-16T05:23:55.256365Z",
     "shell.execute_reply": "2023-02-16T05:23:55.255432Z"
    },
    "papermill": {
     "duration": 0.328222,
     "end_time": "2023-02-16T05:23:55.258876",
     "exception": false,
     "start_time": "2023-02-16T05:23:54.930654",
     "status": "completed"
    },
    "tags": []
   },
   "outputs": [
    {
     "data": {
      "image/png": "[encoded data removed]",
      "text/plain": [
       "<Figure size 1000x500 with 2 Axes>"
      ]
     },
     "metadata": {},
     "output_type": "display_data"
    }
   ],
   "source": [
    "plt.figure(figsize=(10,5))\n",
    "correlation=df.corr()\n",
    "sns.heatmap(correlation,vmin=None,vmax=0.8,cmap='coolwarm',annot=True,fmt='.1f',linecolor='white',cbar=True);"
   ]
  },
  {
   "cell_type": "code",
   "execution_count": 44,
   "id": "da64a9eb",
   "metadata": {
    "execution": {
     "iopub.execute_input": "2023-02-16T05:23:55.316398Z",
     "iopub.status.busy": "2023-02-16T05:23:55.315146Z",
     "iopub.status.idle": "2023-02-16T05:23:55.327177Z",
     "shell.execute_reply": "2023-02-16T05:23:55.325906Z"
    },
    "papermill": {
     "duration": 0.043816,
     "end_time": "2023-02-16T05:23:55.329577",
     "exception": false,
     "start_time": "2023-02-16T05:23:55.285761",
     "status": "completed"
    },
    "tags": []
   },
   "outputs": [
    {
     "data": {
      "text/plain": [
       "Total_Stops     0.601889\n",
       "Price           1.000000\n",
       "Duration_min    0.457916\n",
       "Len_Route       0.601889\n",
       "Name: Price, dtype: float64"
      ]
     },
     "execution_count": 44,
     "metadata": {},
     "output_type": "execute_result"
    }
   ],
   "source": [
    "df.corr()['Price']"
   ]
  },
  {
   "cell_type": "code",
   "execution_count": 45,
   "id": "2bf89306",
   "metadata": {
    "execution": {
     "iopub.execute_input": "2023-02-16T05:23:55.386157Z",
     "iopub.status.busy": "2023-02-16T05:23:55.385648Z",
     "iopub.status.idle": "2023-02-16T05:23:55.414512Z",
     "shell.execute_reply": "2023-02-16T05:23:55.413398Z"
    },
    "papermill": {
     "duration": 0.060442,
     "end_time": "2023-02-16T05:23:55.417468",
     "exception": false,
     "start_time": "2023-02-16T05:23:55.357026",
     "status": "completed"
    },
    "tags": []
   },
   "outputs": [],
   "source": [
    "#Convert categorical variable into dummy/indicator variables\n",
    "df=pd.get_dummies(df)"
   ]
  },
  {
   "cell_type": "code",
   "execution_count": 46,
   "id": "34f15bb1",
   "metadata": {
    "execution": {
     "iopub.execute_input": "2023-02-16T05:23:55.473958Z",
     "iopub.status.busy": "2023-02-16T05:23:55.473494Z",
     "iopub.status.idle": "2023-02-16T05:23:55.506327Z",
     "shell.execute_reply": "2023-02-16T05:23:55.504979Z"
    },
    "papermill": {
     "duration": 0.064131,
     "end_time": "2023-02-16T05:23:55.508973",
     "exception": false,
     "start_time": "2023-02-16T05:23:55.444842",
     "status": "completed"
    },
    "tags": []
   },
   "outputs": [
    {
     "data": {
      "text/html": [
       "<div>\n",
       "<style scoped>\n",
       "    .dataframe tbody tr th:only-of-type {\n",
       "        vertical-align: middle;\n",
       "    }\n",
       "\n",
       "    .dataframe tbody tr th {\n",
       "        vertical-align: top;\n",
       "    }\n",
       "\n",
       "    .dataframe thead th {\n",
       "        text-align: right;\n",
       "    }\n",
       "</style>\n",
       "<table border=\"1\" class=\"dataframe\">\n",
       "  <thead>\n",
       "    <tr style=\"text-align: right;\">\n",
       "      <th></th>\n",
       "      <th>Total_Stops</th>\n",
       "      <th>Price</th>\n",
       "      <th>Duration_min</th>\n",
       "      <th>Len_Route</th>\n",
       "      <th>Airline_Air Asia</th>\n",
       "      <th>Airline_Air India</th>\n",
       "      <th>Airline_GoAir</th>\n",
       "      <th>Airline_IndiGo</th>\n",
       "      <th>Airline_Jet Airways</th>\n",
       "      <th>Airline_Jet Airways Business</th>\n",
       "      <th>...</th>\n",
       "      <th>month_9</th>\n",
       "      <th>day_15</th>\n",
       "      <th>day_18</th>\n",
       "      <th>day_21</th>\n",
       "      <th>day_24</th>\n",
       "      <th>day_27</th>\n",
       "      <th>day_3</th>\n",
       "      <th>day_4</th>\n",
       "      <th>day_5</th>\n",
       "      <th>day_6</th>\n",
       "    </tr>\n",
       "  </thead>\n",
       "  <tbody>\n",
       "    <tr>\n",
       "      <th>0</th>\n",
       "      <td>0</td>\n",
       "      <td>3897.0</td>\n",
       "      <td>170</td>\n",
       "      <td>9</td>\n",
       "      <td>0</td>\n",
       "      <td>0</td>\n",
       "      <td>0</td>\n",
       "      <td>1</td>\n",
       "      <td>0</td>\n",
       "      <td>0</td>\n",
       "      <td>...</td>\n",
       "      <td>0</td>\n",
       "      <td>0</td>\n",
       "      <td>0</td>\n",
       "      <td>0</td>\n",
       "      <td>1</td>\n",
       "      <td>0</td>\n",
       "      <td>0</td>\n",
       "      <td>0</td>\n",
       "      <td>0</td>\n",
       "      <td>0</td>\n",
       "    </tr>\n",
       "    <tr>\n",
       "      <th>1</th>\n",
       "      <td>2</td>\n",
       "      <td>7662.0</td>\n",
       "      <td>445</td>\n",
       "      <td>21</td>\n",
       "      <td>0</td>\n",
       "      <td>1</td>\n",
       "      <td>0</td>\n",
       "      <td>0</td>\n",
       "      <td>0</td>\n",
       "      <td>0</td>\n",
       "      <td>...</td>\n",
       "      <td>0</td>\n",
       "      <td>0</td>\n",
       "      <td>0</td>\n",
       "      <td>0</td>\n",
       "      <td>0</td>\n",
       "      <td>0</td>\n",
       "      <td>0</td>\n",
       "      <td>0</td>\n",
       "      <td>1</td>\n",
       "      <td>0</td>\n",
       "    </tr>\n",
       "    <tr>\n",
       "      <th>2</th>\n",
       "      <td>2</td>\n",
       "      <td>13882.0</td>\n",
       "      <td>420</td>\n",
       "      <td>21</td>\n",
       "      <td>0</td>\n",
       "      <td>0</td>\n",
       "      <td>0</td>\n",
       "      <td>0</td>\n",
       "      <td>1</td>\n",
       "      <td>0</td>\n",
       "      <td>...</td>\n",
       "      <td>1</td>\n",
       "      <td>0</td>\n",
       "      <td>0</td>\n",
       "      <td>0</td>\n",
       "      <td>0</td>\n",
       "      <td>0</td>\n",
       "      <td>0</td>\n",
       "      <td>0</td>\n",
       "      <td>0</td>\n",
       "      <td>1</td>\n",
       "    </tr>\n",
       "    <tr>\n",
       "      <th>3</th>\n",
       "      <td>1</td>\n",
       "      <td>6218.0</td>\n",
       "      <td>325</td>\n",
       "      <td>15</td>\n",
       "      <td>0</td>\n",
       "      <td>0</td>\n",
       "      <td>0</td>\n",
       "      <td>1</td>\n",
       "      <td>0</td>\n",
       "      <td>0</td>\n",
       "      <td>...</td>\n",
       "      <td>0</td>\n",
       "      <td>0</td>\n",
       "      <td>0</td>\n",
       "      <td>0</td>\n",
       "      <td>0</td>\n",
       "      <td>0</td>\n",
       "      <td>0</td>\n",
       "      <td>0</td>\n",
       "      <td>1</td>\n",
       "      <td>0</td>\n",
       "    </tr>\n",
       "    <tr>\n",
       "      <th>4</th>\n",
       "      <td>1</td>\n",
       "      <td>13302.0</td>\n",
       "      <td>285</td>\n",
       "      <td>15</td>\n",
       "      <td>0</td>\n",
       "      <td>0</td>\n",
       "      <td>0</td>\n",
       "      <td>1</td>\n",
       "      <td>0</td>\n",
       "      <td>0</td>\n",
       "      <td>...</td>\n",
       "      <td>0</td>\n",
       "      <td>0</td>\n",
       "      <td>0</td>\n",
       "      <td>0</td>\n",
       "      <td>0</td>\n",
       "      <td>0</td>\n",
       "      <td>1</td>\n",
       "      <td>0</td>\n",
       "      <td>0</td>\n",
       "      <td>0</td>\n",
       "    </tr>\n",
       "  </tbody>\n",
       "</table>\n",
       "<p>5 rows × 53 columns</p>\n",
       "</div>"
      ],
      "text/plain": [
       "   Total_Stops    Price  Duration_min  Len_Route  Airline_Air Asia  \\\n",
       "0            0   3897.0           170          9                 0   \n",
       "1            2   7662.0           445         21                 0   \n",
       "2            2  13882.0           420         21                 0   \n",
       "3            1   6218.0           325         15                 0   \n",
       "4            1  13302.0           285         15                 0   \n",
       "\n",
       "   Airline_Air India  Airline_GoAir  Airline_IndiGo  Airline_Jet Airways  \\\n",
       "0                  0              0               1                    0   \n",
       "1                  1              0               0                    0   \n",
       "2                  0              0               0                    1   \n",
       "3                  0              0               1                    0   \n",
       "4                  0              0               1                    0   \n",
       "\n",
       "   Airline_Jet Airways Business  ...  month_9  day_15  day_18  day_21  day_24  \\\n",
       "0                             0  ...        0       0       0       0       1   \n",
       "1                             0  ...        0       0       0       0       0   \n",
       "2                             0  ...        1       0       0       0       0   \n",
       "3                             0  ...        0       0       0       0       0   \n",
       "4                             0  ...        0       0       0       0       0   \n",
       "\n",
       "   day_27  day_3  day_4  day_5  day_6  \n",
       "0       0      0      0      0      0  \n",
       "1       0      0      0      1      0  \n",
       "2       0      0      0      0      1  \n",
       "3       0      0      0      1      0  \n",
       "4       0      1      0      0      0  \n",
       "\n",
       "[5 rows x 53 columns]"
      ]
     },
     "execution_count": 46,
     "metadata": {},
     "output_type": "execute_result"
    }
   ],
   "source": [
    "df.head()"
   ]
  },
  {
   "cell_type": "code",
   "execution_count": 47,
   "id": "b9e61d63",
   "metadata": {
    "execution": {
     "iopub.execute_input": "2023-02-16T05:23:55.567540Z",
     "iopub.status.busy": "2023-02-16T05:23:55.567064Z",
     "iopub.status.idle": "2023-02-16T05:23:55.604964Z",
     "shell.execute_reply": "2023-02-16T05:23:55.603716Z"
    },
    "papermill": {
     "duration": 0.070885,
     "end_time": "2023-02-16T05:23:55.607869",
     "exception": false,
     "start_time": "2023-02-16T05:23:55.536984",
     "status": "completed"
    },
    "tags": []
   },
   "outputs": [
    {
     "data": {
      "text/html": [
       "<div>\n",
       "<style scoped>\n",
       "    .dataframe tbody tr th:only-of-type {\n",
       "        vertical-align: middle;\n",
       "    }\n",
       "\n",
       "    .dataframe tbody tr th {\n",
       "        vertical-align: top;\n",
       "    }\n",
       "\n",
       "    .dataframe thead th {\n",
       "        text-align: right;\n",
       "    }\n",
       "</style>\n",
       "<table border=\"1\" class=\"dataframe\">\n",
       "  <thead>\n",
       "    <tr style=\"text-align: right;\">\n",
       "      <th></th>\n",
       "      <th>Total_Stops</th>\n",
       "      <th>Price</th>\n",
       "      <th>Duration_min</th>\n",
       "      <th>Len_Route</th>\n",
       "      <th>Airline_Air Asia</th>\n",
       "      <th>Airline_Air India</th>\n",
       "      <th>Airline_GoAir</th>\n",
       "      <th>Airline_IndiGo</th>\n",
       "      <th>Airline_Jet Airways</th>\n",
       "      <th>Airline_Jet Airways Business</th>\n",
       "      <th>...</th>\n",
       "      <th>month_9</th>\n",
       "      <th>day_15</th>\n",
       "      <th>day_18</th>\n",
       "      <th>day_21</th>\n",
       "      <th>day_24</th>\n",
       "      <th>day_27</th>\n",
       "      <th>day_3</th>\n",
       "      <th>day_4</th>\n",
       "      <th>day_5</th>\n",
       "      <th>day_6</th>\n",
       "    </tr>\n",
       "  </thead>\n",
       "  <tbody>\n",
       "    <tr>\n",
       "      <th>10457</th>\n",
       "      <td>0</td>\n",
       "      <td>4107.0</td>\n",
       "      <td>150</td>\n",
       "      <td>9</td>\n",
       "      <td>1</td>\n",
       "      <td>0</td>\n",
       "      <td>0</td>\n",
       "      <td>0</td>\n",
       "      <td>0</td>\n",
       "      <td>0</td>\n",
       "      <td>...</td>\n",
       "      <td>1</td>\n",
       "      <td>0</td>\n",
       "      <td>0</td>\n",
       "      <td>0</td>\n",
       "      <td>0</td>\n",
       "      <td>0</td>\n",
       "      <td>0</td>\n",
       "      <td>1</td>\n",
       "      <td>0</td>\n",
       "      <td>0</td>\n",
       "    </tr>\n",
       "    <tr>\n",
       "      <th>10458</th>\n",
       "      <td>0</td>\n",
       "      <td>4145.0</td>\n",
       "      <td>155</td>\n",
       "      <td>9</td>\n",
       "      <td>0</td>\n",
       "      <td>1</td>\n",
       "      <td>0</td>\n",
       "      <td>0</td>\n",
       "      <td>0</td>\n",
       "      <td>0</td>\n",
       "      <td>...</td>\n",
       "      <td>0</td>\n",
       "      <td>0</td>\n",
       "      <td>0</td>\n",
       "      <td>0</td>\n",
       "      <td>0</td>\n",
       "      <td>1</td>\n",
       "      <td>0</td>\n",
       "      <td>0</td>\n",
       "      <td>0</td>\n",
       "      <td>0</td>\n",
       "    </tr>\n",
       "    <tr>\n",
       "      <th>10459</th>\n",
       "      <td>0</td>\n",
       "      <td>7229.0</td>\n",
       "      <td>180</td>\n",
       "      <td>9</td>\n",
       "      <td>0</td>\n",
       "      <td>0</td>\n",
       "      <td>0</td>\n",
       "      <td>0</td>\n",
       "      <td>1</td>\n",
       "      <td>0</td>\n",
       "      <td>...</td>\n",
       "      <td>0</td>\n",
       "      <td>0</td>\n",
       "      <td>0</td>\n",
       "      <td>0</td>\n",
       "      <td>0</td>\n",
       "      <td>1</td>\n",
       "      <td>0</td>\n",
       "      <td>0</td>\n",
       "      <td>0</td>\n",
       "      <td>0</td>\n",
       "    </tr>\n",
       "    <tr>\n",
       "      <th>10460</th>\n",
       "      <td>0</td>\n",
       "      <td>12648.0</td>\n",
       "      <td>160</td>\n",
       "      <td>9</td>\n",
       "      <td>0</td>\n",
       "      <td>0</td>\n",
       "      <td>0</td>\n",
       "      <td>0</td>\n",
       "      <td>0</td>\n",
       "      <td>0</td>\n",
       "      <td>...</td>\n",
       "      <td>0</td>\n",
       "      <td>0</td>\n",
       "      <td>0</td>\n",
       "      <td>0</td>\n",
       "      <td>0</td>\n",
       "      <td>0</td>\n",
       "      <td>1</td>\n",
       "      <td>0</td>\n",
       "      <td>0</td>\n",
       "      <td>0</td>\n",
       "    </tr>\n",
       "    <tr>\n",
       "      <th>10461</th>\n",
       "      <td>2</td>\n",
       "      <td>11753.0</td>\n",
       "      <td>500</td>\n",
       "      <td>21</td>\n",
       "      <td>0</td>\n",
       "      <td>1</td>\n",
       "      <td>0</td>\n",
       "      <td>0</td>\n",
       "      <td>0</td>\n",
       "      <td>0</td>\n",
       "      <td>...</td>\n",
       "      <td>1</td>\n",
       "      <td>0</td>\n",
       "      <td>0</td>\n",
       "      <td>0</td>\n",
       "      <td>0</td>\n",
       "      <td>0</td>\n",
       "      <td>0</td>\n",
       "      <td>0</td>\n",
       "      <td>1</td>\n",
       "      <td>0</td>\n",
       "    </tr>\n",
       "  </tbody>\n",
       "</table>\n",
       "<p>5 rows × 53 columns</p>\n",
       "</div>"
      ],
      "text/plain": [
       "       Total_Stops    Price  Duration_min  Len_Route  Airline_Air Asia  \\\n",
       "10457            0   4107.0           150          9                 1   \n",
       "10458            0   4145.0           155          9                 0   \n",
       "10459            0   7229.0           180          9                 0   \n",
       "10460            0  12648.0           160          9                 0   \n",
       "10461            2  11753.0           500         21                 0   \n",
       "\n",
       "       Airline_Air India  Airline_GoAir  Airline_IndiGo  Airline_Jet Airways  \\\n",
       "10457                  0              0               0                    0   \n",
       "10458                  1              0               0                    0   \n",
       "10459                  0              0               0                    1   \n",
       "10460                  0              0               0                    0   \n",
       "10461                  1              0               0                    0   \n",
       "\n",
       "       Airline_Jet Airways Business  ...  month_9  day_15  day_18  day_21  \\\n",
       "10457                             0  ...        1       0       0       0   \n",
       "10458                             0  ...        0       0       0       0   \n",
       "10459                             0  ...        0       0       0       0   \n",
       "10460                             0  ...        0       0       0       0   \n",
       "10461                             0  ...        1       0       0       0   \n",
       "\n",
       "       day_24  day_27  day_3  day_4  day_5  day_6  \n",
       "10457       0       0      0      1      0      0  \n",
       "10458       0       1      0      0      0      0  \n",
       "10459       0       1      0      0      0      0  \n",
       "10460       0       0      1      0      0      0  \n",
       "10461       0       0      0      0      1      0  \n",
       "\n",
       "[5 rows x 53 columns]"
      ]
     },
     "execution_count": 47,
     "metadata": {},
     "output_type": "execute_result"
    }
   ],
   "source": [
    "data=df[~(df['Price'].isna())]\n",
    "data.tail()"
   ]
  },
  {
   "cell_type": "code",
   "execution_count": 48,
   "id": "4cca575a",
   "metadata": {
    "execution": {
     "iopub.execute_input": "2023-02-16T05:23:55.666619Z",
     "iopub.status.busy": "2023-02-16T05:23:55.666171Z",
     "iopub.status.idle": "2023-02-16T05:23:55.698961Z",
     "shell.execute_reply": "2023-02-16T05:23:55.698052Z"
    },
    "papermill": {
     "duration": 0.065684,
     "end_time": "2023-02-16T05:23:55.701676",
     "exception": false,
     "start_time": "2023-02-16T05:23:55.635992",
     "status": "completed"
    },
    "scrolled": false,
    "tags": []
   },
   "outputs": [
    {
     "data": {
      "text/html": [
       "<div>\n",
       "<style scoped>\n",
       "    .dataframe tbody tr th:only-of-type {\n",
       "        vertical-align: middle;\n",
       "    }\n",
       "\n",
       "    .dataframe tbody tr th {\n",
       "        vertical-align: top;\n",
       "    }\n",
       "\n",
       "    .dataframe thead th {\n",
       "        text-align: right;\n",
       "    }\n",
       "</style>\n",
       "<table border=\"1\" class=\"dataframe\">\n",
       "  <thead>\n",
       "    <tr style=\"text-align: right;\">\n",
       "      <th></th>\n",
       "      <th>Total_Stops</th>\n",
       "      <th>Duration_min</th>\n",
       "      <th>Len_Route</th>\n",
       "      <th>Airline_Air Asia</th>\n",
       "      <th>Airline_Air India</th>\n",
       "      <th>Airline_GoAir</th>\n",
       "      <th>Airline_IndiGo</th>\n",
       "      <th>Airline_Jet Airways</th>\n",
       "      <th>Airline_Jet Airways Business</th>\n",
       "      <th>Airline_Multiple carriers</th>\n",
       "      <th>...</th>\n",
       "      <th>month_9</th>\n",
       "      <th>day_15</th>\n",
       "      <th>day_18</th>\n",
       "      <th>day_21</th>\n",
       "      <th>day_24</th>\n",
       "      <th>day_27</th>\n",
       "      <th>day_3</th>\n",
       "      <th>day_4</th>\n",
       "      <th>day_5</th>\n",
       "      <th>day_6</th>\n",
       "    </tr>\n",
       "  </thead>\n",
       "  <tbody>\n",
       "    <tr>\n",
       "      <th>10462</th>\n",
       "      <td>1</td>\n",
       "      <td>655</td>\n",
       "      <td>15</td>\n",
       "      <td>0</td>\n",
       "      <td>0</td>\n",
       "      <td>0</td>\n",
       "      <td>0</td>\n",
       "      <td>1</td>\n",
       "      <td>0</td>\n",
       "      <td>0</td>\n",
       "      <td>...</td>\n",
       "      <td>0</td>\n",
       "      <td>0</td>\n",
       "      <td>0</td>\n",
       "      <td>0</td>\n",
       "      <td>0</td>\n",
       "      <td>0</td>\n",
       "      <td>0</td>\n",
       "      <td>0</td>\n",
       "      <td>0</td>\n",
       "      <td>1</td>\n",
       "    </tr>\n",
       "    <tr>\n",
       "      <th>10463</th>\n",
       "      <td>1</td>\n",
       "      <td>240</td>\n",
       "      <td>15</td>\n",
       "      <td>0</td>\n",
       "      <td>0</td>\n",
       "      <td>0</td>\n",
       "      <td>1</td>\n",
       "      <td>0</td>\n",
       "      <td>0</td>\n",
       "      <td>0</td>\n",
       "      <td>...</td>\n",
       "      <td>0</td>\n",
       "      <td>0</td>\n",
       "      <td>0</td>\n",
       "      <td>0</td>\n",
       "      <td>0</td>\n",
       "      <td>0</td>\n",
       "      <td>0</td>\n",
       "      <td>0</td>\n",
       "      <td>1</td>\n",
       "      <td>0</td>\n",
       "    </tr>\n",
       "    <tr>\n",
       "      <th>10464</th>\n",
       "      <td>1</td>\n",
       "      <td>705</td>\n",
       "      <td>15</td>\n",
       "      <td>0</td>\n",
       "      <td>0</td>\n",
       "      <td>0</td>\n",
       "      <td>0</td>\n",
       "      <td>1</td>\n",
       "      <td>0</td>\n",
       "      <td>0</td>\n",
       "      <td>...</td>\n",
       "      <td>0</td>\n",
       "      <td>0</td>\n",
       "      <td>0</td>\n",
       "      <td>1</td>\n",
       "      <td>0</td>\n",
       "      <td>0</td>\n",
       "      <td>0</td>\n",
       "      <td>0</td>\n",
       "      <td>0</td>\n",
       "      <td>0</td>\n",
       "    </tr>\n",
       "    <tr>\n",
       "      <th>10465</th>\n",
       "      <td>1</td>\n",
       "      <td>60</td>\n",
       "      <td>15</td>\n",
       "      <td>0</td>\n",
       "      <td>0</td>\n",
       "      <td>0</td>\n",
       "      <td>0</td>\n",
       "      <td>0</td>\n",
       "      <td>0</td>\n",
       "      <td>1</td>\n",
       "      <td>...</td>\n",
       "      <td>0</td>\n",
       "      <td>0</td>\n",
       "      <td>0</td>\n",
       "      <td>1</td>\n",
       "      <td>0</td>\n",
       "      <td>0</td>\n",
       "      <td>0</td>\n",
       "      <td>0</td>\n",
       "      <td>0</td>\n",
       "      <td>0</td>\n",
       "    </tr>\n",
       "    <tr>\n",
       "      <th>10466</th>\n",
       "      <td>0</td>\n",
       "      <td>170</td>\n",
       "      <td>9</td>\n",
       "      <td>1</td>\n",
       "      <td>0</td>\n",
       "      <td>0</td>\n",
       "      <td>0</td>\n",
       "      <td>0</td>\n",
       "      <td>0</td>\n",
       "      <td>0</td>\n",
       "      <td>...</td>\n",
       "      <td>0</td>\n",
       "      <td>0</td>\n",
       "      <td>0</td>\n",
       "      <td>0</td>\n",
       "      <td>1</td>\n",
       "      <td>0</td>\n",
       "      <td>0</td>\n",
       "      <td>0</td>\n",
       "      <td>0</td>\n",
       "      <td>0</td>\n",
       "    </tr>\n",
       "  </tbody>\n",
       "</table>\n",
       "<p>5 rows × 52 columns</p>\n",
       "</div>"
      ],
      "text/plain": [
       "       Total_Stops  Duration_min  Len_Route  Airline_Air Asia  \\\n",
       "10462            1           655         15                 0   \n",
       "10463            1           240         15                 0   \n",
       "10464            1           705         15                 0   \n",
       "10465            1            60         15                 0   \n",
       "10466            0           170          9                 1   \n",
       "\n",
       "       Airline_Air India  Airline_GoAir  Airline_IndiGo  Airline_Jet Airways  \\\n",
       "10462                  0              0               0                    1   \n",
       "10463                  0              0               1                    0   \n",
       "10464                  0              0               0                    1   \n",
       "10465                  0              0               0                    0   \n",
       "10466                  0              0               0                    0   \n",
       "\n",
       "       Airline_Jet Airways Business  Airline_Multiple carriers  ...  month_9  \\\n",
       "10462                             0                          0  ...        0   \n",
       "10463                             0                          0  ...        0   \n",
       "10464                             0                          0  ...        0   \n",
       "10465                             0                          1  ...        0   \n",
       "10466                             0                          0  ...        0   \n",
       "\n",
       "       day_15  day_18  day_21  day_24  day_27  day_3  day_4  day_5  day_6  \n",
       "10462       0       0       0       0       0      0      0      0      1  \n",
       "10463       0       0       0       0       0      0      0      1      0  \n",
       "10464       0       0       1       0       0      0      0      0      0  \n",
       "10465       0       0       1       0       0      0      0      0      0  \n",
       "10466       0       0       0       1       0      0      0      0      0  \n",
       "\n",
       "[5 rows x 52 columns]"
      ]
     },
     "execution_count": 48,
     "metadata": {},
     "output_type": "execute_result"
    }
   ],
   "source": [
    "finalt_test_data=df[df['Price'].isna()]\n",
    "finalt_test_data=finalt_test_data.drop(columns=['Price'])\n",
    "finalt_test_data.head()"
   ]
  },
  {
   "cell_type": "code",
   "execution_count": 50,
   "id": "7844ac01",
   "metadata": {
    "execution": {
     "iopub.execute_input": "2023-02-16T05:23:55.762413Z",
     "iopub.status.busy": "2023-02-16T05:23:55.761288Z",
     "iopub.status.idle": "2023-02-16T05:23:55.772156Z",
     "shell.execute_reply": "2023-02-16T05:23:55.771239Z"
    },
    "papermill": {
     "duration": 0.04345,
     "end_time": "2023-02-16T05:23:55.774374",
     "exception": false,
     "start_time": "2023-02-16T05:23:55.730924",
     "status": "completed"
    },
    "tags": []
   },
   "outputs": [
    {
     "data": {
      "text/plain": [
       "((10461, 52), (10461,))"
      ]
     },
     "execution_count": 50,
     "metadata": {},
     "output_type": "execute_result"
    }
   ],
   "source": [
    "X=data.drop(columns=['Price'])\n",
    "y=data['Price']\n",
    "X.shape,y.shape"
   ]
  },
  {
   "cell_type": "code",
   "execution_count": 71,
   "id": "c7dda489",
   "metadata": {},
   "outputs": [
    {
     "data": {
      "text/html": [
       "<div>\n",
       "<style scoped>\n",
       "    .dataframe tbody tr th:only-of-type {\n",
       "        vertical-align: middle;\n",
       "    }\n",
       "\n",
       "    .dataframe tbody tr th {\n",
       "        vertical-align: top;\n",
       "    }\n",
       "\n",
       "    .dataframe thead th {\n",
       "        text-align: right;\n",
       "    }\n",
       "</style>\n",
       "<table border=\"1\" class=\"dataframe\">\n",
       "  <thead>\n",
       "    <tr style=\"text-align: right;\">\n",
       "      <th></th>\n",
       "      <th>Importances</th>\n",
       "    </tr>\n",
       "    <tr>\n",
       "      <th>Features</th>\n",
       "      <th></th>\n",
       "    </tr>\n",
       "  </thead>\n",
       "  <tbody>\n",
       "    <tr>\n",
       "      <th>Additional_Info_No check-in baggage included</th>\n",
       "      <td>0.000015</td>\n",
       "    </tr>\n",
       "    <tr>\n",
       "      <th>Additional_Info_Red-eye flight</th>\n",
       "      <td>0.000033</td>\n",
       "    </tr>\n",
       "    <tr>\n",
       "      <th>Airline_Vistara Premium economy</th>\n",
       "      <td>0.000069</td>\n",
       "    </tr>\n",
       "    <tr>\n",
       "      <th>Additional_Info_No Info</th>\n",
       "      <td>0.000112</td>\n",
       "    </tr>\n",
       "    <tr>\n",
       "      <th>Airline_Trujet</th>\n",
       "      <td>0.000210</td>\n",
       "    </tr>\n",
       "    <tr>\n",
       "      <th>Additional_Info_Change airports</th>\n",
       "      <td>0.000231</td>\n",
       "    </tr>\n",
       "    <tr>\n",
       "      <th>Additional_Info_2 Long layover</th>\n",
       "      <td>0.000254</td>\n",
       "    </tr>\n",
       "    <tr>\n",
       "      <th>Additional_Info_1 Long layover</th>\n",
       "      <td>0.000259</td>\n",
       "    </tr>\n",
       "    <tr>\n",
       "      <th>Additional_Info_1 Short layover</th>\n",
       "      <td>0.000367</td>\n",
       "    </tr>\n",
       "    <tr>\n",
       "      <th>month_4</th>\n",
       "      <td>0.000465</td>\n",
       "    </tr>\n",
       "    <tr>\n",
       "      <th>Destination_Delhi</th>\n",
       "      <td>0.000628</td>\n",
       "    </tr>\n",
       "    <tr>\n",
       "      <th>Additional_Info_Business class</th>\n",
       "      <td>0.000966</td>\n",
       "    </tr>\n",
       "    <tr>\n",
       "      <th>Destination_Kolkata</th>\n",
       "      <td>0.001081</td>\n",
       "    </tr>\n",
       "    <tr>\n",
       "      <th>Source_Chennai</th>\n",
       "      <td>0.001112</td>\n",
       "    </tr>\n",
       "    <tr>\n",
       "      <th>Airline_Air Asia</th>\n",
       "      <td>0.001229</td>\n",
       "    </tr>\n",
       "    <tr>\n",
       "      <th>Airline_Multiple carriers Premium economy</th>\n",
       "      <td>0.001333</td>\n",
       "    </tr>\n",
       "    <tr>\n",
       "      <th>Airline_GoAir</th>\n",
       "      <td>0.001347</td>\n",
       "    </tr>\n",
       "    <tr>\n",
       "      <th>Airline_SpiceJet</th>\n",
       "      <td>0.002160</td>\n",
       "    </tr>\n",
       "    <tr>\n",
       "      <th>day_18</th>\n",
       "      <td>0.002244</td>\n",
       "    </tr>\n",
       "    <tr>\n",
       "      <th>Destination_Hyderabad</th>\n",
       "      <td>0.002288</td>\n",
       "    </tr>\n",
       "    <tr>\n",
       "      <th>day_15</th>\n",
       "      <td>0.002495</td>\n",
       "    </tr>\n",
       "    <tr>\n",
       "      <th>Source_Mumbai</th>\n",
       "      <td>0.002631</td>\n",
       "    </tr>\n",
       "    <tr>\n",
       "      <th>day_24</th>\n",
       "      <td>0.002645</td>\n",
       "    </tr>\n",
       "    <tr>\n",
       "      <th>day_27</th>\n",
       "      <td>0.002682</td>\n",
       "    </tr>\n",
       "    <tr>\n",
       "      <th>day_21</th>\n",
       "      <td>0.003113</td>\n",
       "    </tr>\n",
       "    <tr>\n",
       "      <th>Source_Delhi</th>\n",
       "      <td>0.003272</td>\n",
       "    </tr>\n",
       "    <tr>\n",
       "      <th>Destination_Cochin</th>\n",
       "      <td>0.003276</td>\n",
       "    </tr>\n",
       "    <tr>\n",
       "      <th>Source_Banglore</th>\n",
       "      <td>0.003521</td>\n",
       "    </tr>\n",
       "    <tr>\n",
       "      <th>month_12</th>\n",
       "      <td>0.003558</td>\n",
       "    </tr>\n",
       "    <tr>\n",
       "      <th>day_5</th>\n",
       "      <td>0.003711</td>\n",
       "    </tr>\n",
       "    <tr>\n",
       "      <th>month_9</th>\n",
       "      <td>0.003760</td>\n",
       "    </tr>\n",
       "    <tr>\n",
       "      <th>Destination_Banglore</th>\n",
       "      <td>0.003835</td>\n",
       "    </tr>\n",
       "    <tr>\n",
       "      <th>Destination_New Delhi</th>\n",
       "      <td>0.003989</td>\n",
       "    </tr>\n",
       "    <tr>\n",
       "      <th>Source_Kolkata</th>\n",
       "      <td>0.004004</td>\n",
       "    </tr>\n",
       "    <tr>\n",
       "      <th>day_6</th>\n",
       "      <td>0.004212</td>\n",
       "    </tr>\n",
       "    <tr>\n",
       "      <th>month_6</th>\n",
       "      <td>0.004256</td>\n",
       "    </tr>\n",
       "    <tr>\n",
       "      <th>month_5</th>\n",
       "      <td>0.004594</td>\n",
       "    </tr>\n",
       "    <tr>\n",
       "      <th>Airline_Vistara</th>\n",
       "      <td>0.005982</td>\n",
       "    </tr>\n",
       "    <tr>\n",
       "      <th>day_4</th>\n",
       "      <td>0.007382</td>\n",
       "    </tr>\n",
       "    <tr>\n",
       "      <th>Airline_IndiGo</th>\n",
       "      <td>0.008088</td>\n",
       "    </tr>\n",
       "    <tr>\n",
       "      <th>Airline_Air India</th>\n",
       "      <td>0.008840</td>\n",
       "    </tr>\n",
       "    <tr>\n",
       "      <th>month_3</th>\n",
       "      <td>0.012255</td>\n",
       "    </tr>\n",
       "    <tr>\n",
       "      <th>Additional_Info_No info</th>\n",
       "      <td>0.018552</td>\n",
       "    </tr>\n",
       "    <tr>\n",
       "      <th>Airline_Multiple carriers</th>\n",
       "      <td>0.028015</td>\n",
       "    </tr>\n",
       "    <tr>\n",
       "      <th>Additional_Info_In-flight meal not included</th>\n",
       "      <td>0.038700</td>\n",
       "    </tr>\n",
       "    <tr>\n",
       "      <th>month_1</th>\n",
       "      <td>0.046410</td>\n",
       "    </tr>\n",
       "    <tr>\n",
       "      <th>Airline_Jet Airways Business</th>\n",
       "      <td>0.048068</td>\n",
       "    </tr>\n",
       "    <tr>\n",
       "      <th>Airline_Jet Airways</th>\n",
       "      <td>0.087555</td>\n",
       "    </tr>\n",
       "    <tr>\n",
       "      <th>Duration_min</th>\n",
       "      <td>0.090879</td>\n",
       "    </tr>\n",
       "    <tr>\n",
       "      <th>day_3</th>\n",
       "      <td>0.103732</td>\n",
       "    </tr>\n",
       "    <tr>\n",
       "      <th>Len_Route</th>\n",
       "      <td>0.199630</td>\n",
       "    </tr>\n",
       "    <tr>\n",
       "      <th>Total_Stops</th>\n",
       "      <td>0.219953</td>\n",
       "    </tr>\n",
       "  </tbody>\n",
       "</table>\n",
       "</div>"
      ],
      "text/plain": [
       "                                              Importances\n",
       "Features                                                 \n",
       "Additional_Info_No check-in baggage included     0.000015\n",
       "Additional_Info_Red-eye flight                   0.000033\n",
       "Airline_Vistara Premium economy                  0.000069\n",
       "Additional_Info_No Info                          0.000112\n",
       "Airline_Trujet                                   0.000210\n",
       "Additional_Info_Change airports                  0.000231\n",
       "Additional_Info_2 Long layover                   0.000254\n",
       "Additional_Info_1 Long layover                   0.000259\n",
       "Additional_Info_1 Short layover                  0.000367\n",
       "month_4                                          0.000465\n",
       "Destination_Delhi                                0.000628\n",
       "Additional_Info_Business class                   0.000966\n",
       "Destination_Kolkata                              0.001081\n",
       "Source_Chennai                                   0.001112\n",
       "Airline_Air Asia                                 0.001229\n",
       "Airline_Multiple carriers Premium economy        0.001333\n",
       "Airline_GoAir                                    0.001347\n",
       "Airline_SpiceJet                                 0.002160\n",
       "day_18                                           0.002244\n",
       "Destination_Hyderabad                            0.002288\n",
       "day_15                                           0.002495\n",
       "Source_Mumbai                                    0.002631\n",
       "day_24                                           0.002645\n",
       "day_27                                           0.002682\n",
       "day_21                                           0.003113\n",
       "Source_Delhi                                     0.003272\n",
       "Destination_Cochin                               0.003276\n",
       "Source_Banglore                                  0.003521\n",
       "month_12                                         0.003558\n",
       "day_5                                            0.003711\n",
       "month_9                                          0.003760\n",
       "Destination_Banglore                             0.003835\n",
       "Destination_New Delhi                            0.003989\n",
       "Source_Kolkata                                   0.004004\n",
       "day_6                                            0.004212\n",
       "month_6                                          0.004256\n",
       "month_5                                          0.004594\n",
       "Airline_Vistara                                  0.005982\n",
       "day_4                                            0.007382\n",
       "Airline_IndiGo                                   0.008088\n",
       "Airline_Air India                                0.008840\n",
       "month_3                                          0.012255\n",
       "Additional_Info_No info                          0.018552\n",
       "Airline_Multiple carriers                        0.028015\n",
       "Additional_Info_In-flight meal not included      0.038700\n",
       "month_1                                          0.046410\n",
       "Airline_Jet Airways Business                     0.048068\n",
       "Airline_Jet Airways                              0.087555\n",
       "Duration_min                                     0.090879\n",
       "day_3                                            0.103732\n",
       "Len_Route                                        0.199630\n",
       "Total_Stops                                      0.219953"
      ]
     },
     "execution_count": 71,
     "metadata": {},
     "output_type": "execute_result"
    }
   ],
   "source": [
    "RF = RandomForestRegressor(random_state=101)\n",
    "\n",
    "# Fit the model to the data\n",
    "RF.fit(X, y)\n",
    "\n",
    "# Get the feature importances\n",
    "importances = RF.feature_importances_\n",
    "feature_names = X.columns\n",
    "\n",
    "\n",
    "# Creating a dataframe for visualization\n",
    "final_df = pd.DataFrame({'Features':feature_names,\"Importances\":importances})\n",
    "final_df.set_index('Features',inplace=True)\n",
    "sorted_importances = final_df.sort_values(by = 'Importances')\n",
    "sorted_importances\n",
    "#sorted_importances.plot(kind='barh')\n",
    "#plt.figure(figsize=(30,12))\n",
    "#plt.show()"
   ]
  },
  {
   "cell_type": "code",
   "execution_count": 51,
   "id": "c270611f",
   "metadata": {
    "execution": {
     "iopub.execute_input": "2023-02-16T05:23:55.834882Z",
     "iopub.status.busy": "2023-02-16T05:23:55.834429Z",
     "iopub.status.idle": "2023-02-16T05:23:55.850217Z",
     "shell.execute_reply": "2023-02-16T05:23:55.848969Z"
    },
    "papermill": {
     "duration": 0.049575,
     "end_time": "2023-02-16T05:23:55.852800",
     "exception": false,
     "start_time": "2023-02-16T05:23:55.803225",
     "status": "completed"
    },
    "tags": []
   },
   "outputs": [
    {
     "data": {
      "text/plain": [
       "((7322, 52), (3139, 52), (7322,), (3139,))"
      ]
     },
     "execution_count": 51,
     "metadata": {},
     "output_type": "execute_result"
    }
   ],
   "source": [
    "X_train, X_test, y_train, y_test = train_test_split(X, y, test_size=0.30, random_state=24, shuffle =True)\n",
    "X_train.shape,X_test.shape,y_train.shape,y_test.shape"
   ]
  },
  {
   "cell_type": "code",
   "execution_count": 52,
   "id": "5418fd26",
   "metadata": {
    "execution": {
     "iopub.execute_input": "2023-02-16T05:23:55.914979Z",
     "iopub.status.busy": "2023-02-16T05:23:55.914038Z",
     "iopub.status.idle": "2023-02-16T05:23:55.928260Z",
     "shell.execute_reply": "2023-02-16T05:23:55.927022Z"
    },
    "papermill": {
     "duration": 0.048651,
     "end_time": "2023-02-16T05:23:55.931172",
     "exception": false,
     "start_time": "2023-02-16T05:23:55.882521",
     "status": "completed"
    },
    "tags": []
   },
   "outputs": [],
   "source": [
    "CV = []\n",
    "train_scores = []\n",
    "test_scores = []\n",
    "\n",
    "def pred_model(model):\n",
    "    # Training model\n",
    "    model.fit(X_train,y_train)\n",
    "            \n",
    "    # score of train set\n",
    "    train_model_score = model.score(X_train,y_train)\n",
    "    train_scores.append(round(train_model_score,2))\n",
    "    y_pred_train=model.predict(X_train)\n",
    "    \n",
    "    # score of test set\n",
    "    test_model_score = model.score(X_test,y_test)\n",
    "    test_scores.append(round(test_model_score,2))\n",
    "    y_pred_test=model.predict(X_test)\n",
    "    \n",
    "    # train set using Cross validation\n",
    "    cross_val = cross_val_score(model ,X_train ,y_train ,cv=5)\n",
    "    cv_mean = cross_val.mean()\n",
    "    CV.append(round(cv_mean,2))\n",
    "    \n",
    "    # Printing results\n",
    "    print(\"Train score :\",round(train_model_score,2))\n",
    "    print(\"Test score :\",round(test_model_score,2))\n",
    "    print(\"Train CV scores :\",cross_val)\n",
    "    print(\"Train CV mean :\",round(cv_mean,2))\n",
    "    print(\"Mean absolute error for train :\",mean_absolute_error(y_train,y_pred_train))\n",
    "    print(\"Median absolute error for train :\",median_absolute_error(y_train,y_pred_train))\n",
    "    print(\"Mean absolute error for test :\",mean_absolute_error(y_test,y_pred_test))\n",
    "    print(\"Median absolute error for test :\",mean_absolute_error(y_test,y_pred_test))\n",
    "    \n",
    "    \n",
    "    # Plotting Graphs \n",
    "    # Residual Plot of train data\n",
    "    fig, ax = plt.subplots(1,2,figsize = (10,4))\n",
    "    ax[0].set_title('Residual Plot of Train samples')\n",
    "    sns.distplot((y_train[:100]-y_pred_train[:100]),hist = False,ax = ax[0])\n",
    "    ax[0].set_xlabel('y_train - y_pred_train')\n",
    "    \n",
    "    # Y_test vs Y_train scatter plot\n",
    "    ax[1].set_title('y_test vs y_pred_test')\n",
    "    ax[1].scatter(x = y_test[:100], y = y_pred_test[:100])\n",
    "    ax[1].set_xlabel('y_test')\n",
    "    ax[1].set_ylabel('y_pred_test')\n",
    "    \n",
    "    plt.show()"
   ]
  },
  {
   "cell_type": "markdown",
   "id": "b8e997a9",
   "metadata": {
    "papermill": {
     "duration": 0.028914,
     "end_time": "2023-02-16T05:23:55.989094",
     "exception": false,
     "start_time": "2023-02-16T05:23:55.960180",
     "status": "completed"
    },
    "tags": []
   },
   "source": [
    "#### Standard Linear Regression or Ordinary Least Squares"
   ]
  },
  {
   "cell_type": "code",
   "execution_count": 53,
   "id": "06d399e3",
   "metadata": {
    "execution": {
     "iopub.execute_input": "2023-02-16T05:23:56.051353Z",
     "iopub.status.busy": "2023-02-16T05:23:56.050459Z",
     "iopub.status.idle": "2023-02-16T05:23:56.717763Z",
     "shell.execute_reply": "2023-02-16T05:23:56.716719Z"
    },
    "papermill": {
     "duration": 0.701007,
     "end_time": "2023-02-16T05:23:56.720066",
     "exception": false,
     "start_time": "2023-02-16T05:23:56.019059",
     "status": "completed"
    },
    "tags": []
   },
   "outputs": [
    {
     "name": "stdout",
     "output_type": "stream",
     "text": [
      "Train score : 0.76\n",
      "Test score : 0.73\n",
      "Train CV scores : [0.76209019 0.77514673 0.78213789 0.75058828 0.68659586]\n",
      "Train CV mean : 0.75\n",
      "Mean absolute error for train : 1552.8292464476726\n",
      "Median absolute error for train : 1144.288644056911\n",
      "Mean absolute error for test : 1619.5620116670186\n",
      "Median absolute error for test : 1619.5620116670186\n"
     ]
    },
    {
     "data": {
      "image/png": "[encoded data removed]",
      "text/plain": [
       "<Figure size 1000x400 with 2 Axes>"
      ]
     },
     "metadata": {},
     "output_type": "display_data"
    }
   ],
   "source": [
    "lr = LinearRegression()\n",
    "pred_model(lr)"
   ]
  },
  {
   "cell_type": "markdown",
   "id": "158c598b",
   "metadata": {
    "papermill": {
     "duration": 0.032025,
     "end_time": "2023-02-16T05:27:32.241153",
     "exception": false,
     "start_time": "2023-02-16T05:27:32.209128",
     "status": "completed"
    },
    "tags": []
   },
   "source": [
    "#### Random Forest"
   ]
  },
  {
   "cell_type": "code",
   "execution_count": 54,
   "id": "566dd259",
   "metadata": {
    "execution": {
     "iopub.execute_input": "2023-02-16T05:27:32.305567Z",
     "iopub.status.busy": "2023-02-16T05:27:32.304511Z",
     "iopub.status.idle": "2023-02-16T05:27:41.286680Z",
     "shell.execute_reply": "2023-02-16T05:27:41.284989Z"
    },
    "papermill": {
     "duration": 9.017522,
     "end_time": "2023-02-16T05:27:41.289609",
     "exception": false,
     "start_time": "2023-02-16T05:27:32.272087",
     "status": "completed"
    },
    "scrolled": false,
    "tags": []
   },
   "outputs": [
    {
     "name": "stdout",
     "output_type": "stream",
     "text": [
      "Train score : 0.97\n",
      "Test score : 0.83\n",
      "Train CV scores : [0.84462429 0.84710328 0.84366052 0.87468559 0.78439773]\n",
      "Train CV mean : 0.84\n",
      "Mean absolute error for train : 415.83230667427574\n",
      "Median absolute error for train : 180.16750000000002\n",
      "Mean absolute error for test : 965.7136802465249\n",
      "Median absolute error for test : 965.7136802465249\n"
     ]
    },
    {
     "data": {
      "image/png": "[encoded data removed]",
      "text/plain": [
       "<Figure size 1000x400 with 2 Axes>"
      ]
     },
     "metadata": {},
     "output_type": "display_data"
    }
   ],
   "source": [
    "RF = RandomForestRegressor()\n",
    "pred_model(RF)"
   ]
  },
  {
   "cell_type": "markdown",
   "id": "d2708dea",
   "metadata": {},
   "source": [
    "#### Decision Tree "
   ]
  },
  {
   "cell_type": "code",
   "execution_count": 55,
   "id": "c9059fa7",
   "metadata": {
    "scrolled": false
   },
   "outputs": [
    {
     "name": "stdout",
     "output_type": "stream",
     "text": [
      "Train score : 0.98\n",
      "Test score : 0.76\n",
      "Train CV scores : [0.75695856 0.6626055  0.81512417 0.82195498 0.6930509 ]\n",
      "Train CV mean : 0.75\n",
      "Mean absolute error for train : 165.3841391241009\n",
      "Median absolute error for train : 0.0\n",
      "Mean absolute error for test : 1065.4229213125197\n",
      "Median absolute error for test : 1065.4229213125197\n"
     ]
    },
    {
     "data": {
      "image/png": "[encoded data removed]",
      "text/plain": [
       "<Figure size 1000x400 with 2 Axes>"
      ]
     },
     "metadata": {},
     "output_type": "display_data"
    }
   ],
   "source": [
    "DTR = DecisionTreeRegressor()\n",
    "pred_model(DTR)"
   ]
  },
  {
   "cell_type": "markdown",
   "id": "d8317da9",
   "metadata": {},
   "source": [
    "### Finding best parameter for random forest as it gave us the highest accuracy"
   ]
  },
  {
   "cell_type": "code",
   "execution_count": 62,
   "id": "7fd280a0",
   "metadata": {},
   "outputs": [],
   "source": [
    "parameters = {'max_depth': [10, 20, 30, 40, 50, 60, 70, 80, 90, 100, None],\n",
    "                'min_samples_leaf': [1, 2, 4],\n",
    "                 'min_samples_split': [2, 5, 10],\n",
    "                 'n_estimators': [200, 400, 600, 800, 1000, 1200, 1400, 1600, 1800, 2000]\n",
    "              }"
   ]
  },
  {
   "cell_type": "code",
   "execution_count": 63,
   "id": "bf78ea25",
   "metadata": {},
   "outputs": [],
   "source": [
    "RF_model = RandomizedSearchCV(estimator = RF,param_distributions = parameters,cv=5,random_state = 101)"
   ]
  },
  {
   "cell_type": "code",
   "execution_count": 64,
   "id": "394e371e",
   "metadata": {},
   "outputs": [
    {
     "data": {
      "text/html": [
       "<style>#sk-container-id-2 {color: black;background-color: white;}#sk-container-id-2 pre{padding: 0;}#sk-container-id-2 div.sk-toggleable {background-color: white;}#sk-container-id-2 label.sk-toggleable__label {cursor: pointer;display: block;width: 100%;margin-bottom: 0;padding: 0.3em;box-sizing: border-box;text-align: center;}#sk-container-id-2 label.sk-toggleable__label-arrow:before {content: \"▸\";float: left;margin-right: 0.25em;color: #696969;}#sk-container-id-2 label.sk-toggleable__label-arrow:hover:before {color: black;}#sk-container-id-2 div.sk-estimator:hover label.sk-toggleable__label-arrow:before {color: black;}#sk-container-id-2 div.sk-toggleable__content {max-height: 0;max-width: 0;overflow: hidden;text-align: left;background-color: #f0f8ff;}#sk-container-id-2 div.sk-toggleable__content pre {margin: 0.2em;color: black;border-radius: 0.25em;background-color: #f0f8ff;}#sk-container-id-2 input.sk-toggleable__control:checked~div.sk-toggleable__content {max-height: 200px;max-width: 100%;overflow: auto;}#sk-container-id-2 input.sk-toggleable__control:checked~label.sk-toggleable__label-arrow:before {content: \"▾\";}#sk-container-id-2 div.sk-estimator input.sk-toggleable__control:checked~label.sk-toggleable__label {background-color: #d4ebff;}#sk-container-id-2 div.sk-label input.sk-toggleable__control:checked~label.sk-toggleable__label {background-color: #d4ebff;}#sk-container-id-2 input.sk-hidden--visually {border: 0;clip: rect(1px 1px 1px 1px);clip: rect(1px, 1px, 1px, 1px);height: 1px;margin: -1px;overflow: hidden;padding: 0;position: absolute;width: 1px;}#sk-container-id-2 div.sk-estimator {font-family: monospace;background-color: #f0f8ff;border: 1px dotted black;border-radius: 0.25em;box-sizing: border-box;margin-bottom: 0.5em;}#sk-container-id-2 div.sk-estimator:hover {background-color: #d4ebff;}#sk-container-id-2 div.sk-parallel-item::after {content: \"\";width: 100%;border-bottom: 1px solid gray;flex-grow: 1;}#sk-container-id-2 div.sk-label:hover label.sk-toggleable__label {background-color: #d4ebff;}#sk-container-id-2 div.sk-serial::before {content: \"\";position: absolute;border-left: 1px solid gray;box-sizing: border-box;top: 0;bottom: 0;left: 50%;z-index: 0;}#sk-container-id-2 div.sk-serial {display: flex;flex-direction: column;align-items: center;background-color: white;padding-right: 0.2em;padding-left: 0.2em;position: relative;}#sk-container-id-2 div.sk-item {position: relative;z-index: 1;}#sk-container-id-2 div.sk-parallel {display: flex;align-items: stretch;justify-content: center;background-color: white;position: relative;}#sk-container-id-2 div.sk-item::before, #sk-container-id-2 div.sk-parallel-item::before {content: \"\";position: absolute;border-left: 1px solid gray;box-sizing: border-box;top: 0;bottom: 0;left: 50%;z-index: -1;}#sk-container-id-2 div.sk-parallel-item {display: flex;flex-direction: column;z-index: 1;position: relative;background-color: white;}#sk-container-id-2 div.sk-parallel-item:first-child::after {align-self: flex-end;width: 50%;}#sk-container-id-2 div.sk-parallel-item:last-child::after {align-self: flex-start;width: 50%;}#sk-container-id-2 div.sk-parallel-item:only-child::after {width: 0;}#sk-container-id-2 div.sk-dashed-wrapped {border: 1px dashed gray;margin: 0 0.4em 0.5em 0.4em;box-sizing: border-box;padding-bottom: 0.4em;background-color: white;}#sk-container-id-2 div.sk-label label {font-family: monospace;font-weight: bold;display: inline-block;line-height: 1.2em;}#sk-container-id-2 div.sk-label-container {text-align: center;}#sk-container-id-2 div.sk-container {/* jupyter's `normalize.less` sets `[hidden] { display: none; }` but bootstrap.min.css set `[hidden] { display: none !important; }` so we also need the `!important` here to be able to override the default hidden behavior on the sphinx rendered scikit-learn.org. See: https://github.com/scikit-learn/scikit-learn/issues/21755 */display: inline-block !important;position: relative;}#sk-container-id-2 div.sk-text-repr-fallback {display: none;}</style><div id=\"sk-container-id-2\" class=\"sk-top-container\"><div class=\"sk-text-repr-fallback\"><pre>RandomizedSearchCV(cv=5,\n",
       "                   estimator=RandomForestRegressor(max_depth=7,\n",
       "                                                   min_samples_split=8,\n",
       "                                                   n_estimators=400),\n",
       "                   param_distributions={&#x27;max_depth&#x27;: [10, 20, 30, 40, 50, 60,\n",
       "                                                      70, 80, 90, 100, None],\n",
       "                                        &#x27;min_samples_leaf&#x27;: [1, 2, 4],\n",
       "                                        &#x27;min_samples_split&#x27;: [2, 5, 10],\n",
       "                                        &#x27;n_estimators&#x27;: [200, 400, 600, 800,\n",
       "                                                         1000, 1200, 1400, 1600,\n",
       "                                                         1800, 2000]},\n",
       "                   random_state=101)</pre><b>In a Jupyter environment, please rerun this cell to show the HTML representation or trust the notebook. <br />On GitHub, the HTML representation is unable to render, please try loading this page with nbviewer.org.</b></div><div class=\"sk-container\" hidden><div class=\"sk-item sk-dashed-wrapped\"><div class=\"sk-label-container\"><div class=\"sk-label sk-toggleable\"><input class=\"sk-toggleable__control sk-hidden--visually\" id=\"sk-estimator-id-4\" type=\"checkbox\" ><label for=\"sk-estimator-id-4\" class=\"sk-toggleable__label sk-toggleable__label-arrow\">RandomizedSearchCV</label><div class=\"sk-toggleable__content\"><pre>RandomizedSearchCV(cv=5,\n",
       "                   estimator=RandomForestRegressor(max_depth=7,\n",
       "                                                   min_samples_split=8,\n",
       "                                                   n_estimators=400),\n",
       "                   param_distributions={&#x27;max_depth&#x27;: [10, 20, 30, 40, 50, 60,\n",
       "                                                      70, 80, 90, 100, None],\n",
       "                                        &#x27;min_samples_leaf&#x27;: [1, 2, 4],\n",
       "                                        &#x27;min_samples_split&#x27;: [2, 5, 10],\n",
       "                                        &#x27;n_estimators&#x27;: [200, 400, 600, 800,\n",
       "                                                         1000, 1200, 1400, 1600,\n",
       "                                                         1800, 2000]},\n",
       "                   random_state=101)</pre></div></div></div><div class=\"sk-parallel\"><div class=\"sk-parallel-item\"><div class=\"sk-item\"><div class=\"sk-label-container\"><div class=\"sk-label sk-toggleable\"><input class=\"sk-toggleable__control sk-hidden--visually\" id=\"sk-estimator-id-5\" type=\"checkbox\" ><label for=\"sk-estimator-id-5\" class=\"sk-toggleable__label sk-toggleable__label-arrow\">estimator: RandomForestRegressor</label><div class=\"sk-toggleable__content\"><pre>RandomForestRegressor(max_depth=7, min_samples_split=8, n_estimators=400)</pre></div></div></div><div class=\"sk-serial\"><div class=\"sk-item\"><div class=\"sk-estimator sk-toggleable\"><input class=\"sk-toggleable__control sk-hidden--visually\" id=\"sk-estimator-id-6\" type=\"checkbox\" ><label for=\"sk-estimator-id-6\" class=\"sk-toggleable__label sk-toggleable__label-arrow\">RandomForestRegressor</label><div class=\"sk-toggleable__content\"><pre>RandomForestRegressor(max_depth=7, min_samples_split=8, n_estimators=400)</pre></div></div></div></div></div></div></div></div></div></div>"
      ],
      "text/plain": [
       "RandomizedSearchCV(cv=5,\n",
       "                   estimator=RandomForestRegressor(max_depth=7,\n",
       "                                                   min_samples_split=8,\n",
       "                                                   n_estimators=400),\n",
       "                   param_distributions={'max_depth': [10, 20, 30, 40, 50, 60,\n",
       "                                                      70, 80, 90, 100, None],\n",
       "                                        'min_samples_leaf': [1, 2, 4],\n",
       "                                        'min_samples_split': [2, 5, 10],\n",
       "                                        'n_estimators': [200, 400, 600, 800,\n",
       "                                                         1000, 1200, 1400, 1600,\n",
       "                                                         1800, 2000]},\n",
       "                   random_state=101)"
      ]
     },
     "execution_count": 64,
     "metadata": {},
     "output_type": "execute_result"
    }
   ],
   "source": [
    "RF_model.fit(X_train,y_train)"
   ]
  },
  {
   "cell_type": "code",
   "execution_count": 65,
   "id": "1a42ff82",
   "metadata": {},
   "outputs": [
    {
     "data": {
      "text/plain": [
       "{'n_estimators': 2000,\n",
       " 'min_samples_split': 10,\n",
       " 'min_samples_leaf': 1,\n",
       " 'max_depth': 40}"
      ]
     },
     "execution_count": 65,
     "metadata": {},
     "output_type": "execute_result"
    }
   ],
   "source": [
    "RF_model.best_params_"
   ]
  },
  {
   "cell_type": "code",
   "execution_count": 66,
   "id": "47c32d5c",
   "metadata": {},
   "outputs": [
    {
     "name": "stdout",
     "output_type": "stream",
     "text": [
      "Train score : 0.85\n",
      "Test score : 0.81\n",
      "Train CV scores : [0.82954222 0.83385917 0.81655534 0.83458904 0.76311123]\n",
      "Train CV mean : 0.82\n",
      "Mean absolute error for train : 1139.0509957461368\n",
      "Median absolute error for train : 711.6942590635626\n",
      "Mean absolute error for test : 1228.5424680206584\n",
      "Median absolute error for test : 1228.5424680206584\n"
     ]
    },
    {
     "data": {
      "image/png": "[encoded data removed]",
      "text/plain": [
       "<Figure size 1000x400 with 2 Axes>"
      ]
     },
     "metadata": {},
     "output_type": "display_data"
    }
   ],
   "source": [
    "RF = RandomForestRegressor(max_depth=7,min_samples_split=8,n_estimators=400,min_samples_leaf=1)\n",
    "pred_model(RF)"
   ]
  },
  {
   "cell_type": "code",
   "execution_count": 61,
   "id": "1a25804a",
   "metadata": {
    "execution": {
     "iopub.execute_input": "2023-02-16T05:29:08.064534Z",
     "iopub.status.busy": "2023-02-16T05:29:08.064072Z",
     "iopub.status.idle": "2023-02-16T05:29:08.080039Z",
     "shell.execute_reply": "2023-02-16T05:29:08.078617Z"
    },
    "papermill": {
     "duration": 0.053888,
     "end_time": "2023-02-16T05:29:08.082300",
     "exception": false,
     "start_time": "2023-02-16T05:29:08.028412",
     "status": "completed"
    },
    "tags": []
   },
   "outputs": [
    {
     "data": {
      "text/html": [
       "<div>\n",
       "<style scoped>\n",
       "    .dataframe tbody tr th:only-of-type {\n",
       "        vertical-align: middle;\n",
       "    }\n",
       "\n",
       "    .dataframe tbody tr th {\n",
       "        vertical-align: top;\n",
       "    }\n",
       "\n",
       "    .dataframe thead th {\n",
       "        text-align: right;\n",
       "    }\n",
       "</style>\n",
       "<table border=\"1\" class=\"dataframe\">\n",
       "  <thead>\n",
       "    <tr style=\"text-align: right;\">\n",
       "      <th></th>\n",
       "      <th>Model</th>\n",
       "      <th>Accuracy(Train)</th>\n",
       "      <th>Accuracy(Test)</th>\n",
       "      <th>CV score mean(Train)</th>\n",
       "    </tr>\n",
       "  </thead>\n",
       "  <tbody>\n",
       "    <tr>\n",
       "      <th>0</th>\n",
       "      <td>LinearRegression</td>\n",
       "      <td>0.76</td>\n",
       "      <td>0.73</td>\n",
       "      <td>0.75</td>\n",
       "    </tr>\n",
       "    <tr>\n",
       "      <th>1</th>\n",
       "      <td>RandomForestRegressor</td>\n",
       "      <td>0.97</td>\n",
       "      <td>0.83</td>\n",
       "      <td>0.84</td>\n",
       "    </tr>\n",
       "    <tr>\n",
       "      <th>2</th>\n",
       "      <td>RandomForestRegressor-Best_para</td>\n",
       "      <td>0.98</td>\n",
       "      <td>0.76</td>\n",
       "      <td>0.75</td>\n",
       "    </tr>\n",
       "    <tr>\n",
       "      <th>3</th>\n",
       "      <td>DecisionTreeRegressor</td>\n",
       "      <td>0.85</td>\n",
       "      <td>0.81</td>\n",
       "      <td>0.82</td>\n",
       "    </tr>\n",
       "  </tbody>\n",
       "</table>\n",
       "</div>"
      ],
      "text/plain": [
       "                             Model  Accuracy(Train)  Accuracy(Test)  \\\n",
       "0                 LinearRegression             0.76            0.73   \n",
       "1            RandomForestRegressor             0.97            0.83   \n",
       "2  RandomForestRegressor-Best_para             0.98            0.76   \n",
       "3            DecisionTreeRegressor             0.85            0.81   \n",
       "\n",
       "   CV score mean(Train)  \n",
       "0                  0.75  \n",
       "1                  0.84  \n",
       "2                  0.75  \n",
       "3                  0.82  "
      ]
     },
     "metadata": {},
     "output_type": "display_data"
    }
   ],
   "source": [
    "Technique = [\"LinearRegression\",\"RandomForestRegressor\",\"RandomForestRegressor-Best_para\",\"DecisionTreeRegressor\"]\n",
    "results=pd.DataFrame({'Model': Technique,'Accuracy(Train)': train_scores,'Accuracy(Test)': test_scores,\n",
    "                      'CV score mean(Train)': CV})\n",
    "display(results)"
   ]
  },
  {
   "cell_type": "code",
   "execution_count": 90,
   "id": "4782e52f",
   "metadata": {
    "execution": {
     "iopub.execute_input": "2023-02-16T05:29:08.222991Z",
     "iopub.status.busy": "2023-02-16T05:29:08.222113Z",
     "iopub.status.idle": "2023-02-16T05:29:08.253060Z",
     "shell.execute_reply": "2023-02-16T05:29:08.251698Z"
    },
    "papermill": {
     "duration": 0.068628,
     "end_time": "2023-02-16T05:29:08.255489",
     "exception": false,
     "start_time": "2023-02-16T05:29:08.186861",
     "status": "completed"
    },
    "tags": []
   },
   "outputs": [
    {
     "data": {
      "text/html": [
       "<div>\n",
       "<style scoped>\n",
       "    .dataframe tbody tr th:only-of-type {\n",
       "        vertical-align: middle;\n",
       "    }\n",
       "\n",
       "    .dataframe tbody tr th {\n",
       "        vertical-align: top;\n",
       "    }\n",
       "\n",
       "    .dataframe thead th {\n",
       "        text-align: right;\n",
       "    }\n",
       "</style>\n",
       "<table border=\"1\" class=\"dataframe\">\n",
       "  <thead>\n",
       "    <tr style=\"text-align: right;\">\n",
       "      <th></th>\n",
       "      <th>Total_Stops</th>\n",
       "      <th>Duration_min</th>\n",
       "      <th>Len_Route</th>\n",
       "      <th>Airline_Air Asia</th>\n",
       "      <th>Airline_Air India</th>\n",
       "      <th>Airline_GoAir</th>\n",
       "      <th>Airline_IndiGo</th>\n",
       "      <th>Airline_Jet Airways</th>\n",
       "      <th>Airline_Jet Airways Business</th>\n",
       "      <th>Airline_Multiple carriers</th>\n",
       "      <th>...</th>\n",
       "      <th>day_15</th>\n",
       "      <th>day_18</th>\n",
       "      <th>day_21</th>\n",
       "      <th>day_24</th>\n",
       "      <th>day_27</th>\n",
       "      <th>day_3</th>\n",
       "      <th>day_4</th>\n",
       "      <th>day_5</th>\n",
       "      <th>day_6</th>\n",
       "      <th>Predicted_Price</th>\n",
       "    </tr>\n",
       "  </thead>\n",
       "  <tbody>\n",
       "    <tr>\n",
       "      <th>10462</th>\n",
       "      <td>1</td>\n",
       "      <td>655</td>\n",
       "      <td>15</td>\n",
       "      <td>0</td>\n",
       "      <td>0</td>\n",
       "      <td>0</td>\n",
       "      <td>0</td>\n",
       "      <td>1</td>\n",
       "      <td>0</td>\n",
       "      <td>0</td>\n",
       "      <td>...</td>\n",
       "      <td>0</td>\n",
       "      <td>0</td>\n",
       "      <td>0</td>\n",
       "      <td>0</td>\n",
       "      <td>0</td>\n",
       "      <td>0</td>\n",
       "      <td>0</td>\n",
       "      <td>0</td>\n",
       "      <td>1</td>\n",
       "      <td>15150.370025</td>\n",
       "    </tr>\n",
       "    <tr>\n",
       "      <th>10463</th>\n",
       "      <td>1</td>\n",
       "      <td>240</td>\n",
       "      <td>15</td>\n",
       "      <td>0</td>\n",
       "      <td>0</td>\n",
       "      <td>0</td>\n",
       "      <td>1</td>\n",
       "      <td>0</td>\n",
       "      <td>0</td>\n",
       "      <td>0</td>\n",
       "      <td>...</td>\n",
       "      <td>0</td>\n",
       "      <td>0</td>\n",
       "      <td>0</td>\n",
       "      <td>0</td>\n",
       "      <td>0</td>\n",
       "      <td>0</td>\n",
       "      <td>0</td>\n",
       "      <td>1</td>\n",
       "      <td>0</td>\n",
       "      <td>4273.068876</td>\n",
       "    </tr>\n",
       "    <tr>\n",
       "      <th>10464</th>\n",
       "      <td>1</td>\n",
       "      <td>705</td>\n",
       "      <td>15</td>\n",
       "      <td>0</td>\n",
       "      <td>0</td>\n",
       "      <td>0</td>\n",
       "      <td>0</td>\n",
       "      <td>1</td>\n",
       "      <td>0</td>\n",
       "      <td>0</td>\n",
       "      <td>...</td>\n",
       "      <td>0</td>\n",
       "      <td>0</td>\n",
       "      <td>1</td>\n",
       "      <td>0</td>\n",
       "      <td>0</td>\n",
       "      <td>0</td>\n",
       "      <td>0</td>\n",
       "      <td>0</td>\n",
       "      <td>0</td>\n",
       "      <td>12817.814477</td>\n",
       "    </tr>\n",
       "    <tr>\n",
       "      <th>10465</th>\n",
       "      <td>1</td>\n",
       "      <td>60</td>\n",
       "      <td>15</td>\n",
       "      <td>0</td>\n",
       "      <td>0</td>\n",
       "      <td>0</td>\n",
       "      <td>0</td>\n",
       "      <td>0</td>\n",
       "      <td>0</td>\n",
       "      <td>1</td>\n",
       "      <td>...</td>\n",
       "      <td>0</td>\n",
       "      <td>0</td>\n",
       "      <td>1</td>\n",
       "      <td>0</td>\n",
       "      <td>0</td>\n",
       "      <td>0</td>\n",
       "      <td>0</td>\n",
       "      <td>0</td>\n",
       "      <td>0</td>\n",
       "      <td>10886.830110</td>\n",
       "    </tr>\n",
       "    <tr>\n",
       "      <th>10466</th>\n",
       "      <td>0</td>\n",
       "      <td>170</td>\n",
       "      <td>9</td>\n",
       "      <td>1</td>\n",
       "      <td>0</td>\n",
       "      <td>0</td>\n",
       "      <td>0</td>\n",
       "      <td>0</td>\n",
       "      <td>0</td>\n",
       "      <td>0</td>\n",
       "      <td>...</td>\n",
       "      <td>0</td>\n",
       "      <td>0</td>\n",
       "      <td>0</td>\n",
       "      <td>1</td>\n",
       "      <td>0</td>\n",
       "      <td>0</td>\n",
       "      <td>0</td>\n",
       "      <td>0</td>\n",
       "      <td>0</td>\n",
       "      <td>4153.404406</td>\n",
       "    </tr>\n",
       "  </tbody>\n",
       "</table>\n",
       "<p>5 rows × 53 columns</p>\n",
       "</div>"
      ],
      "text/plain": [
       "       Total_Stops  Duration_min  Len_Route  Airline_Air Asia  \\\n",
       "10462            1           655         15                 0   \n",
       "10463            1           240         15                 0   \n",
       "10464            1           705         15                 0   \n",
       "10465            1            60         15                 0   \n",
       "10466            0           170          9                 1   \n",
       "\n",
       "       Airline_Air India  Airline_GoAir  Airline_IndiGo  Airline_Jet Airways  \\\n",
       "10462                  0              0               0                    1   \n",
       "10463                  0              0               1                    0   \n",
       "10464                  0              0               0                    1   \n",
       "10465                  0              0               0                    0   \n",
       "10466                  0              0               0                    0   \n",
       "\n",
       "       Airline_Jet Airways Business  Airline_Multiple carriers  ...  day_15  \\\n",
       "10462                             0                          0  ...       0   \n",
       "10463                             0                          0  ...       0   \n",
       "10464                             0                          0  ...       0   \n",
       "10465                             0                          1  ...       0   \n",
       "10466                             0                          0  ...       0   \n",
       "\n",
       "       day_18  day_21  day_24  day_27  day_3  day_4  day_5  day_6  \\\n",
       "10462       0       0       0       0      0      0      0      1   \n",
       "10463       0       0       0       0      0      0      1      0   \n",
       "10464       0       1       0       0      0      0      0      0   \n",
       "10465       0       1       0       0      0      0      0      0   \n",
       "10466       0       0       1       0      0      0      0      0   \n",
       "\n",
       "       Predicted_Price  \n",
       "10462     15150.370025  \n",
       "10463      4273.068876  \n",
       "10464     12817.814477  \n",
       "10465     10886.830110  \n",
       "10466      4153.404406  \n",
       "\n",
       "[5 rows x 53 columns]"
      ]
     },
     "execution_count": 90,
     "metadata": {},
     "output_type": "execute_result"
    }
   ],
   "source": [
    "finalt_test_data.head()"
   ]
  },
  {
   "cell_type": "code",
   "execution_count": 62,
   "id": "f70d1d21",
   "metadata": {
    "execution": {
     "iopub.execute_input": "2023-02-16T05:29:08.327124Z",
     "iopub.status.busy": "2023-02-16T05:29:08.326574Z",
     "iopub.status.idle": "2023-02-16T05:29:08.347530Z",
     "shell.execute_reply": "2023-02-16T05:29:08.346362Z"
    },
    "papermill": {
     "duration": 0.059992,
     "end_time": "2023-02-16T05:29:08.350461",
     "exception": false,
     "start_time": "2023-02-16T05:29:08.290469",
     "status": "completed"
    },
    "tags": []
   },
   "outputs": [
    {
     "data": {
      "text/plain": [
       "array([15150.37002523,  4273.06887618, 12817.81447713, 10886.83010989,\n",
       "        4153.40440604])"
      ]
     },
     "execution_count": 62,
     "metadata": {},
     "output_type": "execute_result"
    }
   ],
   "source": [
    "Prdicted_Price=RF.predict(finalt_test_data)\n",
    "Prdicted_Price[:5]"
   ]
  }
 ],
 "metadata": {
  "kernelspec": {
   "display_name": "Python 3 (ipykernel)",
   "language": "python",
   "name": "python3"
  },
  "language_info": {
   "codemirror_mode": {
    "name": "ipython",
    "version": 3
   },
   "file_extension": ".py",
   "mimetype": "text/x-python",
   "name": "python",
   "nbconvert_exporter": "python",
   "pygments_lexer": "ipython3",
   "version": "3.10.9"
  },
  "papermill": {
   "default_parameters": {},
   "duration": 338.658544,
   "end_time": "2023-02-16T05:29:09.768043",
   "environment_variables": {},
   "exception": null,
   "input_path": "__notebook__.ipynb",
   "output_path": "__notebook__.ipynb",
   "parameters": {},
   "start_time": "2023-02-16T05:23:31.109499",
   "version": "2.3.4"
  }
 },
 "nbformat": 4,
 "nbformat_minor": 5
}
